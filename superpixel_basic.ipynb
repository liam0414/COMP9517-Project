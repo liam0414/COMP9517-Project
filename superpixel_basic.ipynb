{
 "cells": [
  {
   "cell_type": "code",
   "execution_count": null,
   "metadata": {},
   "outputs": [],
   "source": [
    "from skimage.segmentation import slic, mark_boundaries\n",
    "\n",
    "# create a superpixel segmentation of the image\n",
    "\n",
    "# it only works ok with n_segments = 50000. Otherwise the image has worse boundaries than without the superpixels.\n",
    "segments = slic(sample_image, n_segments=50000, compactness=10, start_label=1)\n",
    "superpixel_img = mark_boundaries(sample_image, segments)\n",
    "\n",
    "plt.figure(figsize=(15, 15))\n",
    "plt.subplot(121)\n",
    "plt.imshow(superpixel_img)\n",
    "plt.title(\"Superpixels (over segmentation)\")\n",
    "plt.axis('off')"
   ]
  },
  {
   "cell_type": "code",
   "execution_count": null,
   "metadata": {},
   "outputs": [],
   "source": [
    "from collections import Counter\n",
    "\n",
    "# assign each superpixel to the majority class of all its pixels (theoretically, each superpixel should represent one class)\n",
    "\n",
    "prediction_colours = label_to_rgb(prediction.argmax(axis=2), palette)\n",
    "prediction_new = np.zeros_like(prediction_colours)\n",
    "\n",
    "for segment in np.unique(segments):\n",
    "    mask = segments == segment\n",
    "    segment_colors = prediction_colours[mask]\n",
    "    color_tuples = [tuple(color) for color in segment_colors.reshape(-1, 3)]\n",
    "    majority_class = Counter(color_tuples).most_common(1)[0][0]\n",
    "    prediction_new[mask] = majority_class\n",
    "\n",
    "plt.figure(figsize=(15, 15))\n",
    "plt.subplot(121)\n",
    "plt.imshow(sample_image)\n",
    "plt.title(\"Image\")\n",
    "plt.axis('off')\n",
    "\n",
    "plt.subplot(122)\n",
    "plt.imshow(prediction_new)\n",
    "plt.title(\"Refined Prediction\")\n",
    "plt.axis('off')\n",
    "plt.show()"
   ]
  }
 ],
 "metadata": {
  "language_info": {
   "name": "python"
  }
 },
 "nbformat": 4,
 "nbformat_minor": 2
}
