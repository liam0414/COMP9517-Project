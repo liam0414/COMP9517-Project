{
 "cells": [
  {
   "cell_type": "markdown",
   "metadata": {},
   "source": [
    "# U-Net++"
   ]
  },
  {
   "cell_type": "code",
   "execution_count": 8,
   "metadata": {},
   "outputs": [],
   "source": [
    "import sys\n",
    "import os\n",
    "\n",
    "# Add the parent directory to the Python path\n",
    "parent_dir = os.path.abspath(os.path.join('../..'))\n",
    "if parent_dir not in sys.path:\n",
    "    sys.path.append(parent_dir)"
   ]
  },
  {
   "cell_type": "code",
   "execution_count": 10,
   "metadata": {
    "_cell_guid": "b1076dfc-b9ad-4769-8c92-a6c4dae69d19",
    "_uuid": "8f2839f25d086af736a60e9eeb907d3b93b6e0e5"
   },
   "outputs": [],
   "source": [
    "import pandas as pd\n",
    "import numpy as np\n",
    "import cv2\n",
    "import torch\n",
    "import torch.nn as nn\n",
    "import torch.optim as optim\n",
    "from torch.utils.data import Dataset, DataLoader\n",
    "import matplotlib.pyplot as plt\n",
    "from tqdm import tqdm\n",
    "from torch.cuda.amp import GradScaler, autocast\n",
    "import torch.nn.functional as F\n",
    "from torchvision import transforms\n",
    "from models import METAINFO, NUM_CLASSES\n",
    "\n",
    "# Parameters\n",
    "IMG_SIZE = 512\n",
    "BATCH_SIZE = 8\n",
    "NUM_EPOCHS = 10"
   ]
  },
  {
   "cell_type": "markdown",
   "metadata": {},
   "source": [
    "# 1. Architecture"
   ]
  },
  {
   "cell_type": "markdown",
   "metadata": {},
   "source": [
    "## 1.1. Loss function"
   ]
  },
  {
   "cell_type": "code",
   "execution_count": null,
   "metadata": {},
   "outputs": [],
   "source": [
    "# the loss function has been modified to remove dice weight because the results are not optimal\n",
    "class FocalLoss(nn.Module):\n",
    "    def __init__(self, alpha=1, gamma=2, reduction='mean'):\n",
    "        super(FocalLoss, self).__init__()\n",
    "        self.alpha = alpha\n",
    "        self.gamma = gamma\n",
    "        self.reduction = reduction\n",
    "\n",
    "    def forward(self, inputs, targets):\n",
    "        BCE_loss = F.cross_entropy(inputs, targets, reduction='none')\n",
    "        pt = torch.exp(-BCE_loss)\n",
    "        F_loss = self.alpha * (1 - pt) ** self.gamma * BCE_loss\n",
    "\n",
    "        if self.reduction == 'mean':\n",
    "            return F_loss.mean()\n",
    "        elif self.reduction == 'sum':\n",
    "            return F_loss.sum()\n",
    "        else:\n",
    "            return F_loss"
   ]
  },
  {
   "cell_type": "markdown",
   "metadata": {},
   "source": [
    "## 1.2. Layers"
   ]
  },
  {
   "cell_type": "code",
   "execution_count": 11,
   "metadata": {},
   "outputs": [],
   "source": [
    "class ConvBlock(nn.Module):\n",
    "    def __init__(self, in_channels, out_channels, dropout_prob=0.1):\n",
    "        super(ConvBlock, self).__init__()\n",
    "        self.conv = nn.Sequential(\n",
    "            nn.Conv2d(in_channels, out_channels, 3, padding=1),\n",
    "            nn.BatchNorm2d(out_channels),\n",
    "            nn.ReLU(inplace=True),\n",
    "            nn.Dropout(dropout_prob),\n",
    "            nn.Conv2d(out_channels, out_channels, 3, padding=1),\n",
    "            nn.BatchNorm2d(out_channels),\n",
    "            nn.ReLU(inplace=True),\n",
    "            nn.Dropout(dropout_prob)\n",
    "        )\n",
    "\n",
    "    def forward(self, x):\n",
    "        return self.conv(x)"
   ]
  },
  {
   "cell_type": "markdown",
   "metadata": {},
   "source": [
    "## 1.3. Model"
   ]
  },
  {
   "cell_type": "code",
   "execution_count": 12,
   "metadata": {},
   "outputs": [],
   "source": [
    "class UNetPlusPlus(nn.Module):\n",
    "    def __init__(self, num_classes, deep_supervision=True, dropout_prob=0.1):\n",
    "        super(UNetPlusPlus, self).__init__()\n",
    "        self.deep_supervision = deep_supervision\n",
    "\n",
    "        nb_filter = [32, 64, 128, 256, 512]\n",
    "\n",
    "        self.pool = nn.MaxPool2d(2, 2)\n",
    "        self.up = nn.Upsample(scale_factor=2, mode='bilinear', align_corners=True)\n",
    "\n",
    "        self.conv0_0 = ConvBlock(3, nb_filter[0], dropout_prob)\n",
    "        self.conv1_0 = ConvBlock(nb_filter[0], nb_filter[1], dropout_prob)\n",
    "        self.conv2_0 = ConvBlock(nb_filter[1], nb_filter[2], dropout_prob)\n",
    "        self.conv3_0 = ConvBlock(nb_filter[2], nb_filter[3], dropout_prob)\n",
    "        self.conv4_0 = ConvBlock(nb_filter[3], nb_filter[4], dropout_prob)\n",
    "\n",
    "        self.conv0_1 = ConvBlock(nb_filter[0]+nb_filter[1], nb_filter[0], dropout_prob)\n",
    "        self.conv1_1 = ConvBlock(nb_filter[1]+nb_filter[2], nb_filter[1], dropout_prob)\n",
    "        self.conv2_1 = ConvBlock(nb_filter[2]+nb_filter[3], nb_filter[2], dropout_prob)\n",
    "        self.conv3_1 = ConvBlock(nb_filter[3]+nb_filter[4], nb_filter[3], dropout_prob)\n",
    "\n",
    "        self.conv0_2 = ConvBlock(nb_filter[0]*2+nb_filter[1], nb_filter[0], dropout_prob)\n",
    "        self.conv1_2 = ConvBlock(nb_filter[1]*2+nb_filter[2], nb_filter[1], dropout_prob)\n",
    "        self.conv2_2 = ConvBlock(nb_filter[2]*2+nb_filter[3], nb_filter[2], dropout_prob)\n",
    "\n",
    "        self.conv0_3 = ConvBlock(nb_filter[0]*3+nb_filter[1], nb_filter[0], dropout_prob)\n",
    "        self.conv1_3 = ConvBlock(nb_filter[1]*3+nb_filter[2], nb_filter[1], dropout_prob)\n",
    "\n",
    "        self.conv0_4 = ConvBlock(nb_filter[0]*4+nb_filter[1], nb_filter[0], dropout_prob)\n",
    "\n",
    "        # intermediate results can be returned if needed\n",
    "        if self.deep_supervision:\n",
    "            self.final1 = nn.Conv2d(nb_filter[0], num_classes, kernel_size=1)\n",
    "            self.final2 = nn.Conv2d(nb_filter[0], num_classes, kernel_size=1)\n",
    "            self.final3 = nn.Conv2d(nb_filter[0], num_classes, kernel_size=1)\n",
    "            self.final4 = nn.Conv2d(nb_filter[0], num_classes, kernel_size=1)\n",
    "        else:\n",
    "            self.final = nn.Conv2d(nb_filter[0], num_classes, kernel_size=1)\n",
    "\n",
    "    def forward(self, input):\n",
    "        x0_0 = self.conv0_0(input)\n",
    "        x1_0 = self.conv1_0(self.pool(x0_0))\n",
    "        x0_1 = self.conv0_1(torch.cat([x0_0, self.up(x1_0)], 1))\n",
    "\n",
    "        x2_0 = self.conv2_0(self.pool(x1_0))\n",
    "        x1_1 = self.conv1_1(torch.cat([x1_0, self.up(x2_0)], 1))\n",
    "        x0_2 = self.conv0_2(torch.cat([x0_0, x0_1, self.up(x1_1)], 1))\n",
    "\n",
    "        x3_0 = self.conv3_0(self.pool(x2_0))\n",
    "        x2_1 = self.conv2_1(torch.cat([x2_0, self.up(x3_0)], 1))\n",
    "        x1_2 = self.conv1_2(torch.cat([x1_0, x1_1, self.up(x2_1)], 1))\n",
    "        x0_3 = self.conv0_3(torch.cat([x0_0, x0_1, x0_2, self.up(x1_2)], 1))\n",
    "\n",
    "        x4_0 = self.conv4_0(self.pool(x3_0))\n",
    "        x3_1 = self.conv3_1(torch.cat([x3_0, self.up(x4_0)], 1))\n",
    "        x2_2 = self.conv2_2(torch.cat([x2_0, x2_1, self.up(x3_1)], 1))\n",
    "        x1_3 = self.conv1_3(torch.cat([x1_0, x1_1, x1_2, self.up(x2_2)], 1))\n",
    "        x0_4 = self.conv0_4(torch.cat([x0_0, x0_1, x0_2, x0_3, self.up(x1_3)], 1))\n",
    "\n",
    "        if self.deep_supervision:\n",
    "            output1 = self.final1(x0_1)\n",
    "            output2 = self.final2(x0_2)\n",
    "            output3 = self.final3(x0_3)\n",
    "            output4 = self.final4(x0_4)\n",
    "            return [output1, output2, output3, output4]\n",
    "        else:\n",
    "            output = self.final(x0_4)\n",
    "            return output"
   ]
  },
  {
   "cell_type": "markdown",
   "metadata": {},
   "source": [
    "# 2. Dataset"
   ]
  },
  {
   "cell_type": "code",
   "execution_count": 13,
   "metadata": {},
   "outputs": [],
   "source": [
    "# a helper function to \n",
    "def load_and_sample_data(file_path, sample_fraction=1):\n",
    "    df = pd.read_csv(file_path)\n",
    "    sampled_df = df.sample(frac=sample_fraction, random_state=42)\n",
    "    return sampled_df\n",
    "\n",
    "train_df = load_and_sample_data('../../dataset/train_sample_30.csv')\n",
    "val_df = load_and_sample_data('../../dataset/val_sample_30.csv')\n",
    "test_df = load_and_sample_data('../../dataset/test.csv')\n",
    "\n",
    "imagenet_mean = [0.485, 0.456, 0.406]\n",
    "imagenet_std = [0.229, 0.224, 0.225]\n",
    "\n",
    "class WildScene(Dataset):\n",
    "    def __init__(self, df, img_size, num_classes, is_train=False):\n",
    "        self.df = df\n",
    "        self.img_size = img_size\n",
    "        self.num_classes = num_classes\n",
    "        self.is_train = is_train\n",
    "\n",
    "        # Training transforms with data augmentation\n",
    "        self.train_transform = transforms.Compose([\n",
    "            transforms.ToPILImage(),\n",
    "            transforms.RandomHorizontalFlip(),\n",
    "            transforms.RandomVerticalFlip(),\n",
    "            transforms.RandomRotation(15),\n",
    "            transforms.RandomResizedCrop(img_size, scale=(0.8, 1.0)),\n",
    "            transforms.ToTensor(),\n",
    "            transforms.Normalize(mean=imagenet_mean, std=imagenet_std),\n",
    "        ])\n",
    "\n",
    "        # Evaluation transforms without data augmentation\n",
    "        self.eval_transform = transforms.Compose([\n",
    "            transforms.ToPILImage(),\n",
    "            transforms.Resize((img_size, img_size)),\n",
    "            transforms.ToTensor(),\n",
    "            transforms.Normalize(mean=imagenet_mean, std=imagenet_std),\n",
    "        ])\n",
    "\n",
    "    def __len__(self):\n",
    "        return len(self.df)\n",
    "\n",
    "    def __getitem__(self, idx):\n",
    "        row = self.df.iloc[idx]\n",
    "        img = cv2.imread('../../' + row['im_path'])\n",
    "        img = cv2.cvtColor(img, cv2.COLOR_BGR2RGB)\n",
    "        label = cv2.imread('../../' + row['label_path'], cv2.IMREAD_GRAYSCALE)\n",
    "\n",
    "        if self.is_train:\n",
    "            # Apply training transforms\n",
    "            seed = torch.randint(0, 2**32, (1,)).item()\n",
    "            torch.manual_seed(seed)\n",
    "            img = self.train_transform(img)\n",
    "            \n",
    "            torch.manual_seed(seed)\n",
    "            label = transforms.functional.to_tensor(\n",
    "                transforms.functional.resize(\n",
    "                    transforms.ToPILImage()(label), \n",
    "                    (self.img_size, self.img_size)\n",
    "                )\n",
    "            )\n",
    "        else:\n",
    "            # Apply evaluation transforms\n",
    "            img = self.eval_transform(img)\n",
    "            label = transforms.functional.to_tensor(\n",
    "                transforms.functional.resize(\n",
    "                    transforms.ToPILImage()(label), \n",
    "                    (self.img_size, self.img_size)\n",
    "                )\n",
    "            )\n",
    "\n",
    "        label = label.squeeze().long()\n",
    "\n",
    "        return img, label\n",
    "\n",
    "# Create datasets and dataloaders, it is always a good idea to use data loader because we can apply data augmentation\n",
    "train_dataset = WildScene(train_df, IMG_SIZE, NUM_CLASSES)\n",
    "val_dataset = WildScene(val_df, IMG_SIZE, NUM_CLASSES)\n",
    "test_dataset = WildScene(test_df, IMG_SIZE, NUM_CLASSES)\n",
    "\n",
    "train_loader = DataLoader(train_dataset, batch_size=BATCH_SIZE, shuffle=True) # shuffle is enabled to make batch random\n",
    "val_loader = DataLoader(val_dataset, batch_size=BATCH_SIZE)\n",
    "test_loader = DataLoader(test_dataset, batch_size=BATCH_SIZE)"
   ]
  },
  {
   "cell_type": "markdown",
   "metadata": {},
   "source": [
    "# 3. Training"
   ]
  },
  {
   "cell_type": "code",
   "execution_count": 14,
   "metadata": {},
   "outputs": [],
   "source": [
    "def train_model(model, train_loader, val_loader, optimizer, num_epochs):\n",
    "    train_losses = []\n",
    "    val_losses = []\n",
    "    scaler = GradScaler()\n",
    "\n",
    "    for epoch in range(num_epochs):\n",
    "        model.train()\n",
    "        train_loss = 0.0\n",
    "        for images, labels in tqdm(train_loader, desc=f\"Training Epoch {epoch+1}/{num_epochs}\"):\n",
    "            images, labels = images.cuda(), labels.cuda()\n",
    "            optimizer.zero_grad()\n",
    "\n",
    "            with autocast():\n",
    "                outputs = model(images)\n",
    "                if isinstance(outputs, list):\n",
    "                    loss = sum([criterion(output, labels) for output in outputs]) / len(outputs)\n",
    "                else:\n",
    "                    loss = criterion(outputs, labels)\n",
    "\n",
    "            scaler.scale(loss).backward()\n",
    "            scaler.unscale_(optimizer)\n",
    "            torch.nn.utils.clip_grad_norm_(model.parameters(), max_norm=1.0)\n",
    "            scaler.step(optimizer)\n",
    "            scaler.update()\n",
    "\n",
    "            train_loss += loss.item() * images.size(0)\n",
    "\n",
    "        train_loss /= len(train_loader.dataset)\n",
    "        train_losses.append(train_loss)\n",
    "\n",
    "        val_loss = 0.0\n",
    "        model.eval()\n",
    "        with torch.no_grad():\n",
    "            for images, labels in tqdm(val_loader, desc=f\"Validation Epoch {epoch+1}/{num_epochs}\"):\n",
    "                images, labels = images.cuda(), labels.cuda()\n",
    "                with autocast():\n",
    "                    outputs = model(images)\n",
    "                    if isinstance(outputs, list):\n",
    "                        loss = sum([criterion(output, labels) for output in outputs]) / len(outputs)\n",
    "                    else:\n",
    "                        loss = criterion(outputs, labels)\n",
    "                val_loss += loss.item() * images.size(0)\n",
    "\n",
    "        val_loss /= len(val_loader.dataset)\n",
    "        val_losses.append(val_loss)\n",
    "\n",
    "        print(f\"Epoch {epoch+1}/{num_epochs}, Train Loss: {train_loss:.4f}, Val Loss: {val_loss:.4f}\")\n",
    "\n",
    "    print(\"Training complete.\")\n",
    "    return model, train_losses, val_losses"
   ]
  },
  {
   "cell_type": "markdown",
   "metadata": {},
   "source": [
    "## Training Results"
   ]
  },
  {
   "cell_type": "code",
   "execution_count": 6,
   "metadata": {
    "execution": {
     "iopub.execute_input": "2024-08-01T10:00:51.068279Z",
     "iopub.status.busy": "2024-08-01T10:00:51.067789Z",
     "iopub.status.idle": "2024-08-01T11:40:01.613016Z",
     "shell.execute_reply": "2024-08-01T11:40:01.612040Z",
     "shell.execute_reply.started": "2024-08-01T10:00:51.068249Z"
    },
    "scrolled": true
   },
   "outputs": [
    {
     "name": "stderr",
     "output_type": "stream",
     "text": [
      "Training Epoch 1/10: 100%|██████████| 227/227 [09:54<00:00,  2.62s/it]\n",
      "Validation Epoch 1/10: 100%|██████████| 65/65 [01:26<00:00,  1.32s/it]\n"
     ]
    },
    {
     "name": "stdout",
     "output_type": "stream",
     "text": [
      "Epoch 1/10, Train Loss: 0.4939, Val Loss: 0.2327\n"
     ]
    },
    {
     "name": "stderr",
     "output_type": "stream",
     "text": [
      "Training Epoch 2/10: 100%|██████████| 227/227 [08:41<00:00,  2.30s/it]\n",
      "Validation Epoch 2/10: 100%|██████████| 65/65 [01:05<00:00,  1.01s/it]\n"
     ]
    },
    {
     "name": "stdout",
     "output_type": "stream",
     "text": [
      "Epoch 2/10, Train Loss: 0.2463, Val Loss: 0.2725\n"
     ]
    },
    {
     "name": "stderr",
     "output_type": "stream",
     "text": [
      "Training Epoch 3/10: 100%|██████████| 227/227 [08:40<00:00,  2.29s/it]\n",
      "Validation Epoch 3/10: 100%|██████████| 65/65 [01:05<00:00,  1.01s/it]\n"
     ]
    },
    {
     "name": "stdout",
     "output_type": "stream",
     "text": [
      "Epoch 3/10, Train Loss: 0.2259, Val Loss: 0.2096\n"
     ]
    },
    {
     "name": "stderr",
     "output_type": "stream",
     "text": [
      "Training Epoch 4/10: 100%|██████████| 227/227 [08:38<00:00,  2.28s/it]\n",
      "Validation Epoch 4/10: 100%|██████████| 65/65 [01:04<00:00,  1.00it/s]\n"
     ]
    },
    {
     "name": "stdout",
     "output_type": "stream",
     "text": [
      "Epoch 4/10, Train Loss: 0.2111, Val Loss: 0.2001\n"
     ]
    },
    {
     "name": "stderr",
     "output_type": "stream",
     "text": [
      "Training Epoch 5/10: 100%|██████████| 227/227 [08:38<00:00,  2.28s/it]\n",
      "Validation Epoch 5/10: 100%|██████████| 65/65 [01:04<00:00,  1.00it/s]\n"
     ]
    },
    {
     "name": "stdout",
     "output_type": "stream",
     "text": [
      "Epoch 5/10, Train Loss: 0.2019, Val Loss: 0.2078\n"
     ]
    },
    {
     "name": "stderr",
     "output_type": "stream",
     "text": [
      "Training Epoch 6/10: 100%|██████████| 227/227 [08:39<00:00,  2.29s/it]\n",
      "Validation Epoch 6/10: 100%|██████████| 65/65 [01:05<00:00,  1.00s/it]\n"
     ]
    },
    {
     "name": "stdout",
     "output_type": "stream",
     "text": [
      "Epoch 6/10, Train Loss: 0.1961, Val Loss: 0.2037\n"
     ]
    },
    {
     "name": "stderr",
     "output_type": "stream",
     "text": [
      "Training Epoch 7/10: 100%|██████████| 227/227 [08:40<00:00,  2.29s/it]\n",
      "Validation Epoch 7/10: 100%|██████████| 65/65 [01:05<00:00,  1.01s/it]\n"
     ]
    },
    {
     "name": "stdout",
     "output_type": "stream",
     "text": [
      "Epoch 7/10, Train Loss: 0.1934, Val Loss: 0.1754\n"
     ]
    },
    {
     "name": "stderr",
     "output_type": "stream",
     "text": [
      "Training Epoch 8/10: 100%|██████████| 227/227 [08:39<00:00,  2.29s/it]\n",
      "Validation Epoch 8/10: 100%|██████████| 65/65 [01:05<00:00,  1.01s/it]\n"
     ]
    },
    {
     "name": "stdout",
     "output_type": "stream",
     "text": [
      "Epoch 8/10, Train Loss: 0.1892, Val Loss: 0.1947\n"
     ]
    },
    {
     "name": "stderr",
     "output_type": "stream",
     "text": [
      "Training Epoch 9/10: 100%|██████████| 227/227 [08:39<00:00,  2.29s/it]\n",
      "Validation Epoch 9/10: 100%|██████████| 65/65 [01:05<00:00,  1.01s/it]\n"
     ]
    },
    {
     "name": "stdout",
     "output_type": "stream",
     "text": [
      "Epoch 9/10, Train Loss: 0.1849, Val Loss: 0.1824\n"
     ]
    },
    {
     "name": "stderr",
     "output_type": "stream",
     "text": [
      "Training Epoch 10/10: 100%|██████████| 227/227 [08:42<00:00,  2.30s/it]\n",
      "Validation Epoch 10/10: 100%|██████████| 65/65 [01:05<00:00,  1.01s/it]"
     ]
    },
    {
     "name": "stdout",
     "output_type": "stream",
     "text": [
      "Epoch 10/10, Train Loss: 0.1836, Val Loss: 0.1785\n",
      "Training complete.\n"
     ]
    },
    {
     "name": "stderr",
     "output_type": "stream",
     "text": [
      "\n"
     ]
    }
   ],
   "source": [
    "model = UNetPlusPlus(num_classes=NUM_CLASSES, deep_supervision=True).cuda()\n",
    "optimizer = optim.Adam(model.parameters())\n",
    "criterion = FocalLoss(alpha=0.5, gamma=1, reduction='mean')\n",
    "\n",
    "trained_model, train_losses, val_losses = train_model(model, train_loader, val_loader, optimizer, num_epochs=NUM_EPOCHS)"
   ]
  },
  {
   "cell_type": "markdown",
   "metadata": {},
   "source": [
    "## Loss Plot"
   ]
  },
  {
   "cell_type": "code",
   "execution_count": 7,
   "metadata": {
    "execution": {
     "iopub.execute_input": "2024-08-01T11:40:01.614740Z",
     "iopub.status.busy": "2024-08-01T11:40:01.614235Z",
     "iopub.status.idle": "2024-08-01T11:40:01.924234Z",
     "shell.execute_reply": "2024-08-01T11:40:01.923379Z",
     "shell.execute_reply.started": "2024-08-01T11:40:01.614714Z"
    }
   },
   "outputs": [
    {
     "data": {
      "image/png": "[encoded data removed]",
      "text/plain": [
       "<Figure size 1000x500 with 1 Axes>"
      ]
     },
     "metadata": {},
     "output_type": "display_data"
    }
   ],
   "source": [
    "# Plot the training and validation losses\n",
    "def plot_losses(train_losses, val_losses):\n",
    "    plt.figure(figsize=(10, 5))\n",
    "    plt.plot(train_losses, label='Train Loss')\n",
    "    plt.plot(val_losses, label='Val Loss')\n",
    "    plt.xlabel('Epochs')\n",
    "    plt.ylabel('Loss')\n",
    "    plt.title('Training and Validation Loss over Epochs')\n",
    "    plt.legend()\n",
    "    plt.show()\n",
    "\n",
    "plot_losses(train_losses, val_losses)"
   ]
  },
  {
   "cell_type": "markdown",
   "metadata": {},
   "source": [
    "# 4. Testing"
   ]
  },
  {
   "cell_type": "code",
   "execution_count": 8,
   "metadata": {
    "execution": {
     "iopub.execute_input": "2024-08-01T11:40:01.925850Z",
     "iopub.status.busy": "2024-08-01T11:40:01.925563Z",
     "iopub.status.idle": "2024-08-01T11:40:01.942924Z",
     "shell.execute_reply": "2024-08-01T11:40:01.942060Z",
     "shell.execute_reply.started": "2024-08-01T11:40:01.925826Z"
    }
   },
   "outputs": [],
   "source": [
    "def test_and_evaluate_model(model, test_loader, criterion, classes, palette):\n",
    "    model.eval()\n",
    "    total_loss = 0\n",
    "    class_ious = {cls: 0 for cls in classes}\n",
    "    merged_classes = []\n",
    "    merged_ious = []\n",
    "\n",
    "    with torch.no_grad():\n",
    "        for images, labels in tqdm(test_loader, desc=\"Testing\"):\n",
    "            images, labels = images.cuda(), labels.cuda()\n",
    "            outputs = model(images)\n",
    "            \n",
    "            if isinstance(outputs, list):\n",
    "                outputs = outputs[-1]\n",
    "\n",
    "            # Calculate loss\n",
    "            loss = criterion(outputs, labels)\n",
    "            total_loss += loss.item() * images.size(0)\n",
    "\n",
    "            # Calculate IoU\n",
    "            preds = torch.argmax(outputs, dim=1)\n",
    "            for pred, label in zip(preds, labels):\n",
    "                pred = pred.cpu().numpy().flatten()\n",
    "                label = label.cpu().numpy().flatten()\n",
    "                for class_idx in np.unique(label):\n",
    "                    if class_idx in np.unique(pred):\n",
    "                        iou = calculate_class_iou(label, pred, len(classes))[class_idx]\n",
    "                        class_ious[classes[class_idx]] += iou\n",
    "\n",
    "        # Merge classes as required\n",
    "        for class_name in classes:\n",
    "            if class_name == \"pole\":\n",
    "                other_object_idx = classes.index(\"other-object\")\n",
    "                class_ious[classes[other_object_idx]] += class_ious[class_name]\n",
    "            elif class_name == \"asphalt/concrete\":\n",
    "                other_terrain_idx = classes.index(\"other-terrain\")\n",
    "                class_ious[classes[other_terrain_idx]] += class_ious[class_name]\n",
    "            elif class_name not in [\"vehicle\", \"pole\", \"asphalt/concrete\", \"unlabelled\"]:\n",
    "                merged_classes.append(class_name)\n",
    "                merged_ious.append(class_ious[class_name])\n",
    "\n",
    "        merged_class_ious = dict(zip(merged_classes, merged_ious))\n",
    "\n",
    "    # Calculate test loss\n",
    "    test_loss = total_loss / len(test_loader.dataset)\n",
    "    print(f\"Test Loss: {test_loss:.4f}\")\n",
    "\n",
    "    # Print IoU results\n",
    "    print(\"\\nClass-wise IoU:\")\n",
    "    total_iou = 0\n",
    "    for class_name, iou in sorted(merged_class_ious.items()):\n",
    "        total_iou += iou / len(test_loader.dataset) * 100\n",
    "        print(f\"Class {class_name:<20} IoU: {iou / len(test_loader.dataset) * 100:.4f}\")\n",
    "\n",
    "    # Calculate Mean IoU\n",
    "    mean_iou = total_iou / len(merged_classes)\n",
    "    print(f\"\\nMean IoU: {mean_iou:.4f}\")\n",
    "\n",
    "    # Prediction on a sample image\n",
    "    sample_image, sample_label = next(iter(test_loader))\n",
    "    sample_image, sample_label = sample_image.cuda(), sample_label.cuda()\n",
    "    prediction = predict(model, sample_image)\n",
    "\n",
    "    # Visualize sample image, ground truth, and prediction\n",
    "    visualize_prediction(sample_image, sample_label, prediction, palette)\n",
    "\n",
    "    return test_loss, merged_class_ious\n",
    "\n",
    "def calculate_class_iou(y_true, y_pred, num_classes):\n",
    "    ious = []\n",
    "    for cls in range(num_classes):\n",
    "        true_class = (y_true == cls)\n",
    "        pred_class = (y_pred == cls)\n",
    "\n",
    "        intersection = (true_class & pred_class).sum().item()\n",
    "        union = (true_class | pred_class).sum().item()\n",
    "\n",
    "        if union == 0:\n",
    "            iou = float('nan')\n",
    "        else:\n",
    "            iou = intersection / union\n",
    "\n",
    "        ious.append(iou)\n",
    "\n",
    "    return ious\n",
    "\n",
    "def predict(model, image):\n",
    "    with torch.no_grad():\n",
    "        outputs = model(image)\n",
    "        if isinstance(outputs, list):\n",
    "            return outputs[-1]  # Use the final output for prediction\n",
    "        return outputs\n"
   ]
  },
  {
   "cell_type": "code",
   "execution_count": 9,
   "metadata": {
    "execution": {
     "iopub.execute_input": "2024-08-01T11:40:01.944318Z",
     "iopub.status.busy": "2024-08-01T11:40:01.944054Z",
     "iopub.status.idle": "2024-08-01T11:40:01.956140Z",
     "shell.execute_reply": "2024-08-01T11:40:01.955264Z",
     "shell.execute_reply.started": "2024-08-01T11:40:01.944294Z"
    }
   },
   "outputs": [],
   "source": [
    "def label_to_rgb(label, palette):\n",
    "    rgb_image = np.zeros((*label.shape, 3), dtype=np.uint8)\n",
    "    for label_idx, color in enumerate(palette):\n",
    "        rgb_image[label == label_idx] = color\n",
    "    return rgb_image\n",
    "\n",
    "def visualize_prediction(image, label, prediction, palette):\n",
    "    image = image[0].cpu().numpy().transpose((1, 2, 0))\n",
    "    label = label[0].cpu().numpy()\n",
    "    prediction = prediction[0].argmax(dim=0).cpu().numpy()\n",
    "\n",
    "    plt.figure(figsize=(15, 15))\n",
    "    plt.subplot(131)\n",
    "    plt.imshow(image)\n",
    "    plt.title(\"Image\")\n",
    "    plt.axis('off')\n",
    "\n",
    "    plt.subplot(132)\n",
    "    plt.imshow(label_to_rgb(label, palette))\n",
    "    plt.title(\"Ground Truth\")\n",
    "    plt.axis('off')\n",
    "\n",
    "    plt.subplot(133)\n",
    "    plt.imshow(label_to_rgb(prediction, palette))\n",
    "    plt.title(\"Prediction\")\n",
    "    plt.axis('off')\n",
    "    plt.show()"
   ]
  },
  {
   "cell_type": "code",
   "execution_count": 10,
   "metadata": {
    "execution": {
     "iopub.execute_input": "2024-08-01T11:40:01.957625Z",
     "iopub.status.busy": "2024-08-01T11:40:01.957366Z",
     "iopub.status.idle": "2024-08-01T11:51:56.476422Z",
     "shell.execute_reply": "2024-08-01T11:51:56.475507Z",
     "shell.execute_reply.started": "2024-08-01T11:40:01.957602Z"
    }
   },
   "outputs": [
    {
     "name": "stderr",
     "output_type": "stream",
     "text": [
      "Testing: 100%|██████████| 267/267 [11:54<00:00,  2.68s/it]"
     ]
    },
    {
     "name": "stdout",
     "output_type": "stream",
     "text": [
      "\n",
      "Class-wise IoU:\n",
      "Class bush/shrub           IoU: 0.0198\n",
      "Class dirt                 IoU: 55.6213\n",
      "Class fence                IoU: 0.0000\n",
      "Class grass                IoU: 47.5001\n",
      "Class gravel               IoU: 0.0016\n",
      "Class log                  IoU: 0.0036\n",
      "Class mud                  IoU: 0.0000\n",
      "Class other-object         IoU: 0.1765\n",
      "Class other-structure      IoU: 0.3251\n",
      "Class other-terrain        IoU: 0.0000\n",
      "Class rock                 IoU: 0.0000\n",
      "Class sky                  IoU: 53.8352\n",
      "Class tree-foliage         IoU: 82.6171\n",
      "Class tree-trunk           IoU: 47.5705\n",
      "Class water                IoU: 0.0000\n",
      "\n",
      "Mean IoU: 19.1781\n",
      "Model saved as 'unetplusplus_best_model.pth'\n"
     ]
    },
    {
     "name": "stderr",
     "output_type": "stream",
     "text": [
      "\n"
     ]
    }
   ],
   "source": [
    "def calculate_class_iou(y_true, y_pred, num_classes):\n",
    "    ious = []\n",
    "    for cls in range(num_classes):\n",
    "        true_class = (y_true == cls)\n",
    "        pred_class = (y_pred == cls)\n",
    "\n",
    "        intersection = (true_class & pred_class).sum().item()\n",
    "        union = (true_class | pred_class).sum().item()\n",
    "\n",
    "        if union == 0:\n",
    "            iou = float('nan')\n",
    "        else:\n",
    "            iou = intersection / union\n",
    "\n",
    "        ious.append(iou)\n",
    "\n",
    "    return ious\n",
    "\n",
    "# Define function to evaluate the model\n",
    "def evaluate_model(model, test_loader, classes):\n",
    "    model.eval()\n",
    "    class_ious = {cls: 0 for cls in classes}\n",
    "    merged_classes = []\n",
    "    merged_ious = []\n",
    "\n",
    "    with torch.no_grad():\n",
    "        for images, labels in tqdm(test_loader, desc=\"Testing\"):\n",
    "            images, labels = images.cuda(), labels.cuda()\n",
    "            outputs = model(images)\n",
    "            \n",
    "            # If model outputs a list, take the last element\n",
    "            if isinstance(outputs, list):\n",
    "                outputs = outputs[-1]\n",
    "                \n",
    "            preds = torch.argmax(outputs, dim=1)\n",
    "\n",
    "            for pred, label in zip(preds, labels):\n",
    "                pred = pred.cpu().numpy().flatten()\n",
    "                label = label.cpu().numpy().flatten()\n",
    "\n",
    "                for class_idx in np.unique(label):\n",
    "                    if class_idx in np.unique(pred):\n",
    "                        iou = calculate_class_iou(label, pred, len(classes))[class_idx]\n",
    "                        class_ious[classes[class_idx]] += iou\n",
    "\n",
    "    for class_name in classes:\n",
    "        if class_name == \"pole\":\n",
    "            other_object_idx = classes.index(\"other-object\")\n",
    "            class_ious[classes[other_object_idx]] += class_ious[class_name]\n",
    "        elif class_name == \"asphalt/concrete\":\n",
    "            other_terrain_idx = classes.index(\"other-terrain\")\n",
    "            class_ious[classes[other_terrain_idx]] += class_ious[class_name]\n",
    "        elif class_name not in [\"vehicle\", \"pole\", \"asphalt/concrete\", \"unlabelled\"]:\n",
    "            merged_classes.append(class_name)\n",
    "            merged_ious.append(class_ious[class_name])\n",
    "\n",
    "    merged_class_ious = dict(zip(merged_classes, merged_ious))\n",
    "    return merged_class_ious\n",
    "\n",
    "# Evaluate the model\n",
    "classes = METAINFO['classes']\n",
    "merged_class_ious = evaluate_model(trained_model, test_loader, classes)\n",
    "\n",
    "# Print IoU results\n",
    "print(\"\\nClass-wise IoU:\")\n",
    "total_iou = 0\n",
    "for class_name, iou in sorted(merged_class_ious.items()):\n",
    "    total_iou += iou / len(test_loader.dataset) * 100\n",
    "    print(f\"Class {class_name:<20} IoU: {iou / len(test_loader.dataset) * 100:.4f}\")\n",
    "\n",
    "# Calculate Mean IoU\n",
    "mean_iou = total_iou / 15\n",
    "print(f\"\\nMean IoU: {mean_iou:.4f}\")\n",
    "\n",
    "# Save the trained model\n",
    "torch.save(trained_model.state_dict(), 'unetpp_best.pth')\n",
    "print(\"Model saved as 'unetpp_best.pth'\")"
   ]
  },
  {
   "cell_type": "code",
   "execution_count": null,
   "metadata": {},
   "outputs": [],
   "source": []
  }
 ],
 "metadata": {
  "kaggle": {
   "accelerator": "gpu",
   "dataSources": [
    {
     "datasetId": 5316971,
     "sourceId": 9049243,
     "sourceType": "datasetVersion"
    },
    {
     "datasetId": 5477164,
     "sourceId": 9078944,
     "sourceType": "datasetVersion"
    }
   ],
   "dockerImageVersionId": 30747,
   "isGpuEnabled": true,
   "isInternetEnabled": true,
   "language": "python",
   "sourceType": "notebook"
  },
  "kernelspec": {
   "display_name": "Python 3 (ipykernel)",
   "language": "python",
   "name": "python3"
  },
  "language_info": {
   "codemirror_mode": {
    "name": "ipython",
    "version": 3
   },
   "file_extension": ".py",
   "mimetype": "text/x-python",
   "name": "python",
   "nbconvert_exporter": "python",
   "pygments_lexer": "ipython3",
   "version": "3.12.2"
  }
 },
 "nbformat": 4,
 "nbformat_minor": 4
}
