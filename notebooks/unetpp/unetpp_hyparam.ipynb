{
 "cells": [
  {
   "cell_type": "markdown",
   "metadata": {},
   "source": [
    "# U-Net++ Hyperparameter Tuning"
   ]
  },
  {
   "cell_type": "code",
   "execution_count": 1,
   "metadata": {},
   "outputs": [],
   "source": [
    "import sys\n",
    "import os\n",
    "\n",
    "# Add the parent directory to the Python path\n",
    "parent_dir = os.path.abspath(os.path.join('../..'))\n",
    "if parent_dir not in sys.path:\n",
    "    sys.path.append(parent_dir)"
   ]
  },
  {
   "cell_type": "code",
   "execution_count": 3,
   "metadata": {
    "_cell_guid": "b1076dfc-b9ad-4769-8c92-a6c4dae69d19",
    "_uuid": "8f2839f25d086af736a60e9eeb907d3b93b6e0e5"
   },
   "outputs": [],
   "source": [
    "import pandas as pd\n",
    "import numpy as np\n",
    "import cv2\n",
    "import torch\n",
    "import torch.nn as nn\n",
    "import torch.optim as optim\n",
    "from torch.utils.data import Dataset, DataLoader\n",
    "import matplotlib.pyplot as plt\n",
    "from tqdm import tqdm\n",
    "from torch.cuda.amp import GradScaler, autocast\n",
    "from sklearn.model_selection import ParameterSampler\n",
    "import torch.nn.functional as F\n",
    "from torchvision import transforms\n",
    "from models import NUM_CLASSES, METAINFO\n",
    "\n",
    "# Parameters\n",
    "IMG_SIZE = 512\n",
    "BATCH_SIZE = 8\n",
    "NUM_EPOCHS = 5"
   ]
  },
  {
   "cell_type": "code",
   "execution_count": 5,
   "metadata": {},
   "outputs": [],
   "source": [
    "class CombinedSegmentationLoss(nn.Module):\n",
    "    def __init__(self, alpha=1.0, gamma=2.0, boundary_weight=1.0, dice_weight=1.0):\n",
    "        super(CombinedSegmentationLoss, self).__init__()\n",
    "        self.alpha = alpha\n",
    "        self.gamma = gamma\n",
    "        self.boundary_weight = boundary_weight\n",
    "        self.dice_weight = dice_weight\n",
    "\n",
    "    def forward(self, inputs, targets):\n",
    "        # Multi-class Cross Entropy Loss\n",
    "        ce_loss = F.cross_entropy(inputs, targets, reduction='none')\n",
    "\n",
    "        # Varifocal Loss component\n",
    "        pred_prob = F.softmax(inputs, dim=1)\n",
    "        pt = pred_prob.gather(1, targets.unsqueeze(1)).squeeze(1)\n",
    "        focal_weight = self.alpha * (1 - pt).pow(self.gamma)\n",
    "        vfl_loss = focal_weight * ce_loss\n",
    "\n",
    "        # Dice Loss component\n",
    "        smooth = 1e-6\n",
    "        inputs_softmax = F.softmax(inputs, dim=1)\n",
    "        targets_one_hot = F.one_hot(targets, num_classes=inputs.shape[1]).permute(0, 3, 1, 2).float()\n",
    "        intersection = (inputs_softmax * targets_one_hot).sum(dim=(2, 3))\n",
    "        dice_loss = 1 - (2 * intersection + smooth) / (inputs_softmax.sum(dim=(2, 3)) + targets_one_hot.sum(dim=(2, 3)) + smooth)\n",
    "\n",
    "        # Combine losses\n",
    "        combined_loss = vfl_loss.mean() + self.dice_weight * dice_loss.mean()\n",
    "        return combined_loss\n"
   ]
  },
  {
   "cell_type": "code",
   "execution_count": 6,
   "metadata": {},
   "outputs": [],
   "source": [
    "class ConvBlock(nn.Module):\n",
    "    def __init__(self, in_channels, out_channels, dropout_prob=0.1):\n",
    "        super(ConvBlock, self).__init__()\n",
    "        self.conv = nn.Sequential(\n",
    "            nn.Conv2d(in_channels, out_channels, 3, padding=1),\n",
    "            nn.BatchNorm2d(out_channels),\n",
    "            nn.ReLU(inplace=True),\n",
    "            nn.Dropout(dropout_prob),\n",
    "            nn.Conv2d(out_channels, out_channels, 3, padding=1),\n",
    "            nn.BatchNorm2d(out_channels),\n",
    "            nn.ReLU(inplace=True),\n",
    "            nn.Dropout(dropout_prob)\n",
    "        )\n",
    "\n",
    "    def forward(self, x):\n",
    "        return self.conv(x)\n",
    "\n",
    "class UNetPlusPlus(nn.Module):\n",
    "    def __init__(self, num_classes, deep_supervision=True, dropout_prob=0.1):\n",
    "        super(UNetPlusPlus, self).__init__()\n",
    "        self.deep_supervision = deep_supervision\n",
    "\n",
    "        nb_filter = [32, 64, 128, 256, 512]\n",
    "\n",
    "        self.pool = nn.MaxPool2d(2, 2)\n",
    "        self.up = nn.Upsample(scale_factor=2, mode='bilinear', align_corners=True)\n",
    "\n",
    "        self.conv0_0 = ConvBlock(3, nb_filter[0], dropout_prob)\n",
    "        self.conv1_0 = ConvBlock(nb_filter[0], nb_filter[1], dropout_prob)\n",
    "        self.conv2_0 = ConvBlock(nb_filter[1], nb_filter[2], dropout_prob)\n",
    "        self.conv3_0 = ConvBlock(nb_filter[2], nb_filter[3], dropout_prob)\n",
    "        self.conv4_0 = ConvBlock(nb_filter[3], nb_filter[4], dropout_prob)\n",
    "\n",
    "        self.conv0_1 = ConvBlock(nb_filter[0]+nb_filter[1], nb_filter[0], dropout_prob)\n",
    "        self.conv1_1 = ConvBlock(nb_filter[1]+nb_filter[2], nb_filter[1], dropout_prob)\n",
    "        self.conv2_1 = ConvBlock(nb_filter[2]+nb_filter[3], nb_filter[2], dropout_prob)\n",
    "        self.conv3_1 = ConvBlock(nb_filter[3]+nb_filter[4], nb_filter[3], dropout_prob)\n",
    "\n",
    "        self.conv0_2 = ConvBlock(nb_filter[0]*2+nb_filter[1], nb_filter[0], dropout_prob)\n",
    "        self.conv1_2 = ConvBlock(nb_filter[1]*2+nb_filter[2], nb_filter[1], dropout_prob)\n",
    "        self.conv2_2 = ConvBlock(nb_filter[2]*2+nb_filter[3], nb_filter[2], dropout_prob)\n",
    "\n",
    "        self.conv0_3 = ConvBlock(nb_filter[0]*3+nb_filter[1], nb_filter[0], dropout_prob)\n",
    "        self.conv1_3 = ConvBlock(nb_filter[1]*3+nb_filter[2], nb_filter[1], dropout_prob)\n",
    "\n",
    "        self.conv0_4 = ConvBlock(nb_filter[0]*4+nb_filter[1], nb_filter[0], dropout_prob)\n",
    "\n",
    "        if self.deep_supervision:\n",
    "            self.final1 = nn.Conv2d(nb_filter[0], num_classes, kernel_size=1)\n",
    "            self.final2 = nn.Conv2d(nb_filter[0], num_classes, kernel_size=1)\n",
    "            self.final3 = nn.Conv2d(nb_filter[0], num_classes, kernel_size=1)\n",
    "            self.final4 = nn.Conv2d(nb_filter[0], num_classes, kernel_size=1)\n",
    "        else:\n",
    "            self.final = nn.Conv2d(nb_filter[0], num_classes, kernel_size=1)\n",
    "\n",
    "    def forward(self, input):\n",
    "        x0_0 = self.conv0_0(input)\n",
    "        x1_0 = self.conv1_0(self.pool(x0_0))\n",
    "        x0_1 = self.conv0_1(torch.cat([x0_0, self.up(x1_0)], 1))\n",
    "\n",
    "        x2_0 = self.conv2_0(self.pool(x1_0))\n",
    "        x1_1 = self.conv1_1(torch.cat([x1_0, self.up(x2_0)], 1))\n",
    "        x0_2 = self.conv0_2(torch.cat([x0_0, x0_1, self.up(x1_1)], 1))\n",
    "\n",
    "        x3_0 = self.conv3_0(self.pool(x2_0))\n",
    "        x2_1 = self.conv2_1(torch.cat([x2_0, self.up(x3_0)], 1))\n",
    "        x1_2 = self.conv1_2(torch.cat([x1_0, x1_1, self.up(x2_1)], 1))\n",
    "        x0_3 = self.conv0_3(torch.cat([x0_0, x0_1, x0_2, self.up(x1_2)], 1))\n",
    "\n",
    "        x4_0 = self.conv4_0(self.pool(x3_0))\n",
    "        x3_1 = self.conv3_1(torch.cat([x3_0, self.up(x4_0)], 1))\n",
    "        x2_2 = self.conv2_2(torch.cat([x2_0, x2_1, self.up(x3_1)], 1))\n",
    "        x1_3 = self.conv1_3(torch.cat([x1_0, x1_1, x1_2, self.up(x2_2)], 1))\n",
    "        x0_4 = self.conv0_4(torch.cat([x0_0, x0_1, x0_2, x0_3, self.up(x1_3)], 1))\n",
    "\n",
    "        if self.deep_supervision:\n",
    "            output1 = self.final1(x0_1)\n",
    "            output2 = self.final2(x0_2)\n",
    "            output3 = self.final3(x0_3)\n",
    "            output4 = self.final4(x0_4)\n",
    "            return [output1, output2, output3, output4]\n",
    "        else:\n",
    "            output = self.final(x0_4)\n",
    "            return output"
   ]
  },
  {
   "cell_type": "code",
   "execution_count": 11,
   "metadata": {},
   "outputs": [],
   "source": [
    "def load_and_sample_data(file_path, sample_fraction=1):\n",
    "    df = pd.read_csv(file_path)\n",
    "    sampled_df = df.sample(frac=sample_fraction, random_state=42)\n",
    "    return sampled_df\n",
    "\n",
    "train_df = load_and_sample_data('../../dataset/train_sample_30.csv')\n",
    "val_df = load_and_sample_data('../../dataset/val_sample_30.csv')\n",
    "test_df = load_and_sample_data('../../dataset/test.csv')\n",
    "\n",
    "imagenet_mean = [0.485, 0.456, 0.406]\n",
    "imagenet_std = [0.229, 0.224, 0.225]\n",
    "\n",
    "class WildScene(Dataset):\n",
    "    def __init__(self, df, img_size, num_classes, is_train=False):\n",
    "        self.df = df\n",
    "        self.img_size = img_size\n",
    "        self.num_classes = num_classes\n",
    "        self.is_train = is_train\n",
    "\n",
    "        # Training transforms with data augmentation\n",
    "        self.train_transform = transforms.Compose([\n",
    "            transforms.ToPILImage(),\n",
    "            transforms.RandomHorizontalFlip(),\n",
    "            transforms.RandomVerticalFlip(),\n",
    "            transforms.RandomRotation(15),\n",
    "            transforms.RandomResizedCrop(img_size, scale=(0.8, 1.0)),\n",
    "            transforms.ToTensor(),\n",
    "            transforms.Normalize(mean=imagenet_mean, std=imagenet_std),\n",
    "        ])\n",
    "\n",
    "        # Evaluation transforms without data augmentation\n",
    "        self.eval_transform = transforms.Compose([\n",
    "            transforms.ToPILImage(),\n",
    "            transforms.Resize((img_size, img_size)),\n",
    "            transforms.ToTensor(),\n",
    "            transforms.Normalize(mean=imagenet_mean, std=imagenet_std),\n",
    "        ])\n",
    "\n",
    "    def __len__(self):\n",
    "        return len(self.df)\n",
    "\n",
    "    def __getitem__(self, idx):\n",
    "        row = self.df.iloc[idx]\n",
    "        img = cv2.imread('../../' + row['im_path'])\n",
    "        img = cv2.cvtColor(img, cv2.COLOR_BGR2RGB)\n",
    "        label = cv2.imread('../../' + row['label_path'], cv2.IMREAD_GRAYSCALE)\n",
    "\n",
    "        if self.is_train:\n",
    "            # Apply training transforms\n",
    "            seed = torch.randint(0, 2**32, (1,)).item()\n",
    "            torch.manual_seed(seed)\n",
    "            img = self.train_transform(img)\n",
    "            \n",
    "            torch.manual_seed(seed)\n",
    "            label = transforms.functional.to_tensor(\n",
    "                transforms.functional.resize(\n",
    "                    transforms.ToPILImage()(label), \n",
    "                    (self.img_size, self.img_size)\n",
    "                )\n",
    "            )\n",
    "        else:\n",
    "            # Apply evaluation transforms\n",
    "            img = self.eval_transform(img)\n",
    "            label = transforms.functional.to_tensor(\n",
    "                transforms.functional.resize(\n",
    "                    transforms.ToPILImage()(label), \n",
    "                    (self.img_size, self.img_size)\n",
    "                )\n",
    "            )\n",
    "        label = label.squeeze().long()\n",
    "        return img, label"
   ]
  },
  {
   "cell_type": "code",
   "execution_count": 12,
   "metadata": {},
   "outputs": [],
   "source": [
    "# Create datasets with appropriate transforms\n",
    "train_dataset = WildScene(train_df, IMG_SIZE, NUM_CLASSES, is_train=True)\n",
    "val_dataset = WildScene(val_df, IMG_SIZE, NUM_CLASSES, is_train=False)\n",
    "test_dataset = WildScene(test_df, IMG_SIZE, NUM_CLASSES, is_train=False)\n",
    "\n",
    "# train_loader = DataLoader(train_dataset, batch_size=BATCH_SIZE, shuffle=True)\n",
    "train_loader = DataLoader(train_dataset, batch_size=BATCH_SIZE)\n",
    "val_loader = DataLoader(val_dataset, batch_size=BATCH_SIZE)\n",
    "test_loader = DataLoader(test_dataset, batch_size=BATCH_SIZE)"
   ]
  },
  {
   "cell_type": "code",
   "execution_count": 13,
   "metadata": {},
   "outputs": [],
   "source": [
    "def train_model(model, train_loader, val_loader, optimizer, criterion, num_epochs, early_stop_epochs=3):\n",
    "    best_val_loss = float('inf')\n",
    "    train_losses = []\n",
    "    val_losses = []\n",
    "    scaler = GradScaler()\n",
    "\n",
    "    for epoch in range(num_epochs):\n",
    "        model.train()\n",
    "        train_loss = 0.0\n",
    "        for images, labels in tqdm(train_loader, desc=f\"Training Epoch {epoch+1}/{num_epochs}\"):\n",
    "            images, labels = images.cuda(), labels.cuda()\n",
    "            optimizer.zero_grad()\n",
    "\n",
    "            with autocast():\n",
    "                outputs = model(images)\n",
    "                if isinstance(outputs, list):\n",
    "                    loss = sum([criterion(output, labels) for output in outputs]) / len(outputs)\n",
    "                else:\n",
    "                    loss = criterion(outputs, labels)\n",
    "\n",
    "            scaler.scale(loss).backward()\n",
    "            scaler.unscale_(optimizer)\n",
    "            torch.nn.utils.clip_grad_norm_(model.parameters(), max_norm=1.0)\n",
    "            scaler.step(optimizer)\n",
    "            scaler.update()\n",
    "\n",
    "            train_loss += loss.item() * images.size(0)\n",
    "\n",
    "        train_loss /= len(train_loader.dataset)\n",
    "        train_losses.append(train_loss)\n",
    "\n",
    "        val_loss = 0.0\n",
    "        model.eval()\n",
    "        with torch.no_grad():\n",
    "            for images, labels in tqdm(val_loader, desc=f\"Validation Epoch {epoch+1}/{num_epochs}\"):\n",
    "                images, labels = images.cuda(), labels.cuda()\n",
    "                with autocast():\n",
    "                    outputs = model(images)\n",
    "                    if isinstance(outputs, list):\n",
    "                        loss = sum([criterion(output, labels) for output in outputs]) / len(outputs)\n",
    "                    else:\n",
    "                        loss = criterion(outputs, labels)\n",
    "                val_loss += loss.item() * images.size(0)\n",
    "\n",
    "        val_loss /= len(val_loader.dataset)\n",
    "        val_losses.append(val_loss)\n",
    "\n",
    "        print(f\"Epoch {epoch+1}/{num_epochs}, Train Loss: {train_loss:.4f}, Val Loss: {val_loss:.4f}\")\n",
    "\n",
    "        if val_loss < best_val_loss:\n",
    "            best_val_loss = val_loss\n",
    "            torch.save(model.state_dict(), 'best_model.pth')\n",
    "\n",
    "        # Early stopping check\n",
    "        if epoch >= early_stop_epochs and val_losses[-early_stop_epochs] < val_loss:\n",
    "            print(f\"Early stopping at epoch {epoch+1}\")\n",
    "            break\n",
    "\n",
    "    print(\"Training complete.\")\n",
    "    return model, train_losses, val_losses"
   ]
  },
  {
   "cell_type": "code",
   "execution_count": 14,
   "metadata": {},
   "outputs": [],
   "source": [
    "def random_search(param_distributions, n_iter=10, initial_epochs=3, full_epochs=10):\n",
    "    param_list = list(ParameterSampler(param_distributions, n_iter=n_iter))\n",
    "    \n",
    "    best_model = None\n",
    "    best_val_loss = float('inf')\n",
    "    best_params = None\n",
    "    \n",
    "    for i, params in enumerate(param_list):\n",
    "        print(f\"\\nTrying combination {i+1}/{len(param_list)}:\")\n",
    "        print(params)\n",
    "\n",
    "        model = UNetPlusPlus(num_classes=NUM_CLASSES, deep_supervision=True, dropout_prob=params['dropout_prob']).cuda()\n",
    "        optimizer = optim.Adam(model.parameters(), lr=params['learning_rate'])\n",
    "        criterion = CombinedSegmentationLoss(alpha=params['focal_alpha'], gamma=params['focal_gamma'], boundary_weight=params['boundary_weight'], dice_weight=params['dice_weight'])\n",
    "        \n",
    "        try:\n",
    "            # Initial evaluation phase\n",
    "            trained_model, _, val_losses = train_model(model, train_loader, val_loader, optimizer, criterion, num_epochs=initial_epochs)\n",
    "            \n",
    "            if val_losses[-1] < best_val_loss:\n",
    "                best_val_loss = val_losses[-1]\n",
    "                best_model = trained_model\n",
    "                best_params = params\n",
    "                print(f\"New best model found with initial validation loss: {best_val_loss}\")\n",
    "\n",
    "                # Full evaluation phase\n",
    "                trained_model, _, val_losses = train_model(model, train_loader, val_loader, optimizer, criterion, num_epochs=full_epochs)\n",
    "                if val_losses[-1] < best_val_loss:\n",
    "                    best_val_loss = val_losses[-1]\n",
    "                    best_model = trained_model\n",
    "                    best_params = params\n",
    "                    print(f\"New best model found with full validation loss: {best_val_loss}\")\n",
    "        except RuntimeError as e:\n",
    "            print(f\"Error during training: {str(e)}\")\n",
    "            continue\n",
    "    \n",
    "    return best_model, best_params"
   ]
  },
  {
   "cell_type": "code",
   "execution_count": 8,
   "metadata": {
    "execution": {
     "iopub.execute_input": "2024-07-31T23:53:54.666613Z",
     "iopub.status.busy": "2024-07-31T23:53:54.666282Z",
     "iopub.status.idle": "2024-08-01T07:03:36.194158Z",
     "shell.execute_reply": "2024-08-01T07:03:36.193172Z",
     "shell.execute_reply.started": "2024-07-31T23:53:54.666587Z"
    },
    "scrolled": true
   },
   "outputs": [
    {
     "name": "stdout",
     "output_type": "stream",
     "text": [
      "\n",
      "Trying combination 1/20:\n",
      "{'learning_rate': 0.0005, 'focal_gamma': 1, 'focal_alpha': 0.75, 'dropout_prob': 0.2, 'dice_weight': 1, 'boundary_weight': 0.5}\n"
     ]
    },
    {
     "name": "stderr",
     "output_type": "stream",
     "text": [
      "Training Epoch 1/3: 100%|██████████| 76/76 [04:24<00:00,  3.48s/it]\n",
      "Validation Epoch 1/3: 100%|██████████| 65/65 [02:04<00:00,  1.92s/it]\n"
     ]
    },
    {
     "name": "stdout",
     "output_type": "stream",
     "text": [
      "Epoch 1/3, Train Loss: 2.4426, Val Loss: 2.0929\n"
     ]
    },
    {
     "name": "stderr",
     "output_type": "stream",
     "text": [
      "Training Epoch 2/3: 100%|██████████| 76/76 [03:35<00:00,  2.84s/it]\n",
      "Validation Epoch 2/3: 100%|██████████| 65/65 [01:29<00:00,  1.37s/it]\n"
     ]
    },
    {
     "name": "stdout",
     "output_type": "stream",
     "text": [
      "Epoch 2/3, Train Loss: 1.6883, Val Loss: 1.4044\n"
     ]
    },
    {
     "name": "stderr",
     "output_type": "stream",
     "text": [
      "Training Epoch 3/3: 100%|██████████| 76/76 [03:34<00:00,  2.82s/it]\n",
      "Validation Epoch 3/3: 100%|██████████| 65/65 [01:29<00:00,  1.38s/it]\n"
     ]
    },
    {
     "name": "stdout",
     "output_type": "stream",
     "text": [
      "Epoch 3/3, Train Loss: 1.2560, Val Loss: 1.1054\n",
      "Training complete.\n",
      "New best model found with initial validation loss: 1.1053705804596536\n"
     ]
    },
    {
     "name": "stderr",
     "output_type": "stream",
     "text": [
      "Training Epoch 1/10: 100%|██████████| 76/76 [03:33<00:00,  2.81s/it]\n",
      "Validation Epoch 1/10: 100%|██████████| 65/65 [01:30<00:00,  1.39s/it]\n"
     ]
    },
    {
     "name": "stdout",
     "output_type": "stream",
     "text": [
      "Epoch 1/10, Train Loss: 1.0748, Val Loss: 1.0143\n"
     ]
    },
    {
     "name": "stderr",
     "output_type": "stream",
     "text": [
      "Training Epoch 2/10: 100%|██████████| 76/76 [03:32<00:00,  2.80s/it]\n",
      "Validation Epoch 2/10: 100%|██████████| 65/65 [01:29<00:00,  1.38s/it]\n"
     ]
    },
    {
     "name": "stdout",
     "output_type": "stream",
     "text": [
      "Epoch 2/10, Train Loss: 1.0133, Val Loss: 0.9795\n"
     ]
    },
    {
     "name": "stderr",
     "output_type": "stream",
     "text": [
      "Training Epoch 3/10: 100%|██████████| 76/76 [03:35<00:00,  2.83s/it]\n",
      "Validation Epoch 3/10: 100%|██████████| 65/65 [01:29<00:00,  1.38s/it]\n"
     ]
    },
    {
     "name": "stdout",
     "output_type": "stream",
     "text": [
      "Epoch 3/10, Train Loss: 0.9874, Val Loss: 0.9644\n"
     ]
    },
    {
     "name": "stderr",
     "output_type": "stream",
     "text": [
      "Training Epoch 4/10: 100%|██████████| 76/76 [03:28<00:00,  2.75s/it]\n",
      "Validation Epoch 4/10: 100%|██████████| 65/65 [01:27<00:00,  1.35s/it]\n"
     ]
    },
    {
     "name": "stdout",
     "output_type": "stream",
     "text": [
      "Epoch 4/10, Train Loss: 0.9741, Val Loss: 0.9581\n"
     ]
    },
    {
     "name": "stderr",
     "output_type": "stream",
     "text": [
      "Training Epoch 5/10: 100%|██████████| 76/76 [03:27<00:00,  2.73s/it]\n",
      "Validation Epoch 5/10: 100%|██████████| 65/65 [01:29<00:00,  1.38s/it]\n"
     ]
    },
    {
     "name": "stdout",
     "output_type": "stream",
     "text": [
      "Epoch 5/10, Train Loss: 0.9667, Val Loss: 0.9547\n"
     ]
    },
    {
     "name": "stderr",
     "output_type": "stream",
     "text": [
      "Training Epoch 6/10: 100%|██████████| 76/76 [03:28<00:00,  2.74s/it]\n",
      "Validation Epoch 6/10: 100%|██████████| 65/65 [01:31<00:00,  1.40s/it]\n"
     ]
    },
    {
     "name": "stdout",
     "output_type": "stream",
     "text": [
      "Epoch 6/10, Train Loss: 0.9621, Val Loss: 0.9527\n"
     ]
    },
    {
     "name": "stderr",
     "output_type": "stream",
     "text": [
      "Training Epoch 7/10: 100%|██████████| 76/76 [03:28<00:00,  2.74s/it]\n",
      "Validation Epoch 7/10: 100%|██████████| 65/65 [01:30<00:00,  1.40s/it]\n"
     ]
    },
    {
     "name": "stdout",
     "output_type": "stream",
     "text": [
      "Epoch 7/10, Train Loss: 0.9590, Val Loss: 0.9515\n"
     ]
    },
    {
     "name": "stderr",
     "output_type": "stream",
     "text": [
      "Training Epoch 8/10: 100%|██████████| 76/76 [03:33<00:00,  2.81s/it]\n",
      "Validation Epoch 8/10: 100%|██████████| 65/65 [01:32<00:00,  1.42s/it]\n"
     ]
    },
    {
     "name": "stdout",
     "output_type": "stream",
     "text": [
      "Epoch 8/10, Train Loss: 0.9568, Val Loss: 0.9506\n"
     ]
    },
    {
     "name": "stderr",
     "output_type": "stream",
     "text": [
      "Training Epoch 9/10: 100%|██████████| 76/76 [03:31<00:00,  2.78s/it]\n",
      "Validation Epoch 9/10: 100%|██████████| 65/65 [01:32<00:00,  1.43s/it]\n"
     ]
    },
    {
     "name": "stdout",
     "output_type": "stream",
     "text": [
      "Epoch 9/10, Train Loss: 0.9552, Val Loss: 0.9500\n"
     ]
    },
    {
     "name": "stderr",
     "output_type": "stream",
     "text": [
      "Training Epoch 10/10: 100%|██████████| 76/76 [03:30<00:00,  2.77s/it]\n",
      "Validation Epoch 10/10: 100%|██████████| 65/65 [01:31<00:00,  1.41s/it]\n"
     ]
    },
    {
     "name": "stdout",
     "output_type": "stream",
     "text": [
      "Epoch 10/10, Train Loss: 0.9540, Val Loss: 0.9495\n",
      "Training complete.\n",
      "New best model found with full validation loss: 0.9495297727897821\n",
      "\n",
      "Trying combination 2/20:\n",
      "{'learning_rate': 0.001, 'focal_gamma': 2, 'focal_alpha': 0.75, 'dropout_prob': 0.2, 'dice_weight': 1.5, 'boundary_weight': 1.0}\n"
     ]
    },
    {
     "name": "stderr",
     "output_type": "stream",
     "text": [
      "Training Epoch 1/3: 100%|██████████| 76/76 [03:41<00:00,  2.91s/it]\n",
      "Validation Epoch 1/3: 100%|██████████| 65/65 [01:29<00:00,  1.38s/it]\n"
     ]
    },
    {
     "name": "stdout",
     "output_type": "stream",
     "text": [
      "Epoch 1/3, Train Loss: 2.3879, Val Loss: 1.7068\n"
     ]
    },
    {
     "name": "stderr",
     "output_type": "stream",
     "text": [
      "Training Epoch 2/3: 100%|██████████| 76/76 [03:34<00:00,  2.82s/it]\n",
      "Validation Epoch 2/3: 100%|██████████| 65/65 [01:30<00:00,  1.39s/it]\n"
     ]
    },
    {
     "name": "stdout",
     "output_type": "stream",
     "text": [
      "Epoch 2/3, Train Loss: 1.5983, Val Loss: 1.4657\n"
     ]
    },
    {
     "name": "stderr",
     "output_type": "stream",
     "text": [
      "Training Epoch 3/3: 100%|██████████| 76/76 [03:30<00:00,  2.76s/it]\n",
      "Validation Epoch 3/3: 100%|██████████| 65/65 [01:29<00:00,  1.38s/it]\n"
     ]
    },
    {
     "name": "stdout",
     "output_type": "stream",
     "text": [
      "Epoch 3/3, Train Loss: 1.4668, Val Loss: 1.4365\n",
      "Training complete.\n",
      "\n",
      "Trying combination 3/20:\n",
      "{'learning_rate': 0.001, 'focal_gamma': 2, 'focal_alpha': 0.25, 'dropout_prob': 0.3, 'dice_weight': 1, 'boundary_weight': 1.5}\n"
     ]
    },
    {
     "name": "stderr",
     "output_type": "stream",
     "text": [
      "Training Epoch 1/3: 100%|██████████| 76/76 [03:35<00:00,  2.84s/it]\n",
      "Validation Epoch 1/3: 100%|██████████| 65/65 [01:30<00:00,  1.40s/it]\n"
     ]
    },
    {
     "name": "stdout",
     "output_type": "stream",
     "text": [
      "Epoch 1/3, Train Loss: 1.3627, Val Loss: 1.0598\n"
     ]
    },
    {
     "name": "stderr",
     "output_type": "stream",
     "text": [
      "Training Epoch 2/3: 100%|██████████| 76/76 [03:34<00:00,  2.83s/it]\n",
      "Validation Epoch 2/3: 100%|██████████| 65/65 [01:31<00:00,  1.41s/it]\n"
     ]
    },
    {
     "name": "stdout",
     "output_type": "stream",
     "text": [
      "Epoch 2/3, Train Loss: 1.0484, Val Loss: 0.9652\n"
     ]
    },
    {
     "name": "stderr",
     "output_type": "stream",
     "text": [
      "Training Epoch 3/3: 100%|██████████| 76/76 [03:31<00:00,  2.78s/it]\n",
      "Validation Epoch 3/3: 100%|██████████| 65/65 [01:31<00:00,  1.41s/it]\n"
     ]
    },
    {
     "name": "stdout",
     "output_type": "stream",
     "text": [
      "Epoch 3/3, Train Loss: 0.9748, Val Loss: 0.9533\n",
      "Training complete.\n",
      "\n",
      "Trying combination 4/20:\n",
      "{'learning_rate': 0.0005, 'focal_gamma': 1, 'focal_alpha': 0.5, 'dropout_prob': 0.1, 'dice_weight': 1.5, 'boundary_weight': 1.5}\n"
     ]
    },
    {
     "name": "stderr",
     "output_type": "stream",
     "text": [
      "Training Epoch 1/3: 100%|██████████| 76/76 [03:38<00:00,  2.88s/it]\n",
      "Validation Epoch 1/3: 100%|██████████| 65/65 [01:29<00:00,  1.37s/it]\n"
     ]
    },
    {
     "name": "stdout",
     "output_type": "stream",
     "text": [
      "Epoch 1/3, Train Loss: 2.4461, Val Loss: 2.1497\n"
     ]
    },
    {
     "name": "stderr",
     "output_type": "stream",
     "text": [
      "Training Epoch 2/3: 100%|██████████| 76/76 [03:35<00:00,  2.83s/it]\n",
      "Validation Epoch 2/3: 100%|██████████| 65/65 [01:27<00:00,  1.35s/it]\n"
     ]
    },
    {
     "name": "stdout",
     "output_type": "stream",
     "text": [
      "Epoch 2/3, Train Loss: 1.9388, Val Loss: 1.7445\n"
     ]
    },
    {
     "name": "stderr",
     "output_type": "stream",
     "text": [
      "Training Epoch 3/3: 100%|██████████| 76/76 [03:32<00:00,  2.79s/it]\n",
      "Validation Epoch 3/3: 100%|██████████| 65/65 [01:29<00:00,  1.37s/it]\n"
     ]
    },
    {
     "name": "stdout",
     "output_type": "stream",
     "text": [
      "Epoch 3/3, Train Loss: 1.6289, Val Loss: 1.5409\n",
      "Training complete.\n",
      "\n",
      "Trying combination 5/20:\n",
      "{'learning_rate': 0.0005, 'focal_gamma': 1, 'focal_alpha': 0.75, 'dropout_prob': 0.1, 'dice_weight': 1.5, 'boundary_weight': 1.0}\n"
     ]
    },
    {
     "name": "stderr",
     "output_type": "stream",
     "text": [
      "Training Epoch 1/3: 100%|██████████| 76/76 [03:37<00:00,  2.86s/it]\n",
      "Validation Epoch 1/3: 100%|██████████| 65/65 [01:30<00:00,  1.39s/it]\n"
     ]
    },
    {
     "name": "stdout",
     "output_type": "stream",
     "text": [
      "Epoch 1/3, Train Loss: 2.9129, Val Loss: 2.4689\n"
     ]
    },
    {
     "name": "stderr",
     "output_type": "stream",
     "text": [
      "Training Epoch 2/3: 100%|██████████| 76/76 [03:35<00:00,  2.84s/it]\n",
      "Validation Epoch 2/3: 100%|██████████| 65/65 [01:30<00:00,  1.40s/it]\n"
     ]
    },
    {
     "name": "stdout",
     "output_type": "stream",
     "text": [
      "Epoch 2/3, Train Loss: 2.1401, Val Loss: 1.8523\n"
     ]
    },
    {
     "name": "stderr",
     "output_type": "stream",
     "text": [
      "Training Epoch 3/3: 100%|██████████| 76/76 [03:39<00:00,  2.88s/it]\n",
      "Validation Epoch 3/3: 100%|██████████| 65/65 [01:33<00:00,  1.43s/it]\n"
     ]
    },
    {
     "name": "stdout",
     "output_type": "stream",
     "text": [
      "Epoch 3/3, Train Loss: 1.6902, Val Loss: 1.5657\n",
      "Training complete.\n",
      "\n",
      "Trying combination 6/20:\n",
      "{'learning_rate': 0.001, 'focal_gamma': 1, 'focal_alpha': 0.5, 'dropout_prob': 0.1, 'dice_weight': 0.5, 'boundary_weight': 1.0}\n"
     ]
    },
    {
     "name": "stderr",
     "output_type": "stream",
     "text": [
      "Training Epoch 1/3: 100%|██████████| 76/76 [03:42<00:00,  2.93s/it]\n",
      "Validation Epoch 1/3: 100%|██████████| 65/65 [01:33<00:00,  1.44s/it]\n"
     ]
    },
    {
     "name": "stdout",
     "output_type": "stream",
     "text": [
      "Epoch 1/3, Train Loss: 1.1814, Val Loss: 0.7570\n"
     ]
    },
    {
     "name": "stderr",
     "output_type": "stream",
     "text": [
      "Training Epoch 2/3: 100%|██████████| 76/76 [03:40<00:00,  2.90s/it]\n",
      "Validation Epoch 2/3: 100%|██████████| 65/65 [01:33<00:00,  1.43s/it]\n"
     ]
    },
    {
     "name": "stdout",
     "output_type": "stream",
     "text": [
      "Epoch 2/3, Train Loss: 0.5877, Val Loss: 0.5113\n"
     ]
    },
    {
     "name": "stderr",
     "output_type": "stream",
     "text": [
      "Training Epoch 3/3: 100%|██████████| 76/76 [03:34<00:00,  2.83s/it]\n",
      "Validation Epoch 3/3: 100%|██████████| 65/65 [01:30<00:00,  1.39s/it]\n"
     ]
    },
    {
     "name": "stdout",
     "output_type": "stream",
     "text": [
      "Epoch 3/3, Train Loss: 0.4994, Val Loss: 0.4854\n",
      "Training complete.\n",
      "New best model found with initial validation loss: 0.48539008643176107\n"
     ]
    },
    {
     "name": "stderr",
     "output_type": "stream",
     "text": [
      "Training Epoch 1/10: 100%|██████████| 76/76 [03:27<00:00,  2.73s/it]\n",
      "Validation Epoch 1/10: 100%|██████████| 65/65 [01:28<00:00,  1.37s/it]\n"
     ]
    },
    {
     "name": "stdout",
     "output_type": "stream",
     "text": [
      "Epoch 1/10, Train Loss: 0.4853, Val Loss: 0.4795\n"
     ]
    },
    {
     "name": "stderr",
     "output_type": "stream",
     "text": [
      "Training Epoch 2/10: 100%|██████████| 76/76 [03:25<00:00,  2.70s/it]\n",
      "Validation Epoch 2/10: 100%|██████████| 65/65 [01:30<00:00,  1.39s/it]\n"
     ]
    },
    {
     "name": "stdout",
     "output_type": "stream",
     "text": [
      "Epoch 2/10, Train Loss: 0.4806, Val Loss: 0.4772\n"
     ]
    },
    {
     "name": "stderr",
     "output_type": "stream",
     "text": [
      "Training Epoch 3/10: 100%|██████████| 76/76 [03:23<00:00,  2.67s/it]\n",
      "Validation Epoch 3/10: 100%|██████████| 65/65 [01:28<00:00,  1.36s/it]\n"
     ]
    },
    {
     "name": "stdout",
     "output_type": "stream",
     "text": [
      "Epoch 3/10, Train Loss: 0.4784, Val Loss: 0.4761\n"
     ]
    },
    {
     "name": "stderr",
     "output_type": "stream",
     "text": [
      "Training Epoch 4/10: 100%|██████████| 76/76 [03:19<00:00,  2.63s/it]\n",
      "Validation Epoch 4/10: 100%|██████████| 65/65 [01:28<00:00,  1.37s/it]\n"
     ]
    },
    {
     "name": "stdout",
     "output_type": "stream",
     "text": [
      "Epoch 4/10, Train Loss: 0.4771, Val Loss: 0.4754\n"
     ]
    },
    {
     "name": "stderr",
     "output_type": "stream",
     "text": [
      "Training Epoch 5/10: 100%|██████████| 76/76 [03:17<00:00,  2.60s/it]\n",
      "Validation Epoch 5/10: 100%|██████████| 65/65 [01:27<00:00,  1.35s/it]\n"
     ]
    },
    {
     "name": "stdout",
     "output_type": "stream",
     "text": [
      "Epoch 5/10, Train Loss: 0.4763, Val Loss: 0.4750\n"
     ]
    },
    {
     "name": "stderr",
     "output_type": "stream",
     "text": [
      "Training Epoch 6/10: 100%|██████████| 76/76 [03:16<00:00,  2.59s/it]\n",
      "Validation Epoch 6/10: 100%|██████████| 65/65 [01:30<00:00,  1.39s/it]\n"
     ]
    },
    {
     "name": "stdout",
     "output_type": "stream",
     "text": [
      "Epoch 6/10, Train Loss: 0.4758, Val Loss: 0.4747\n"
     ]
    },
    {
     "name": "stderr",
     "output_type": "stream",
     "text": [
      "Training Epoch 7/10: 100%|██████████| 76/76 [03:15<00:00,  2.58s/it]\n",
      "Validation Epoch 7/10: 100%|██████████| 65/65 [01:29<00:00,  1.38s/it]\n"
     ]
    },
    {
     "name": "stdout",
     "output_type": "stream",
     "text": [
      "Epoch 7/10, Train Loss: 0.4754, Val Loss: 0.4745\n"
     ]
    },
    {
     "name": "stderr",
     "output_type": "stream",
     "text": [
      "Training Epoch 8/10: 100%|██████████| 76/76 [03:15<00:00,  2.58s/it]\n",
      "Validation Epoch 8/10: 100%|██████████| 65/65 [01:29<00:00,  1.37s/it]\n"
     ]
    },
    {
     "name": "stdout",
     "output_type": "stream",
     "text": [
      "Epoch 8/10, Train Loss: 0.4751, Val Loss: 0.4744\n"
     ]
    },
    {
     "name": "stderr",
     "output_type": "stream",
     "text": [
      "Training Epoch 9/10: 100%|██████████| 76/76 [03:14<00:00,  2.56s/it]\n",
      "Validation Epoch 9/10: 100%|██████████| 65/65 [01:29<00:00,  1.37s/it]\n"
     ]
    },
    {
     "name": "stdout",
     "output_type": "stream",
     "text": [
      "Epoch 9/10, Train Loss: 0.4749, Val Loss: 0.4743\n"
     ]
    },
    {
     "name": "stderr",
     "output_type": "stream",
     "text": [
      "Training Epoch 10/10: 100%|██████████| 76/76 [03:12<00:00,  2.54s/it]\n",
      "Validation Epoch 10/10: 100%|██████████| 65/65 [01:28<00:00,  1.37s/it]\n"
     ]
    },
    {
     "name": "stdout",
     "output_type": "stream",
     "text": [
      "Epoch 10/10, Train Loss: 0.4748, Val Loss: 0.4742\n",
      "Training complete.\n",
      "New best model found with full validation loss: 0.47420341259724386\n",
      "\n",
      "Trying combination 7/20:\n",
      "{'learning_rate': 0.001, 'focal_gamma': 3, 'focal_alpha': 0.5, 'dropout_prob': 0.1, 'dice_weight': 1, 'boundary_weight': 0.5}\n"
     ]
    },
    {
     "name": "stderr",
     "output_type": "stream",
     "text": [
      "Training Epoch 1/3: 100%|██████████| 76/76 [03:35<00:00,  2.84s/it]\n",
      "Validation Epoch 1/3: 100%|██████████| 65/65 [01:28<00:00,  1.37s/it]\n"
     ]
    },
    {
     "name": "stdout",
     "output_type": "stream",
     "text": [
      "Epoch 1/3, Train Loss: 1.4837, Val Loss: 1.0816\n"
     ]
    },
    {
     "name": "stderr",
     "output_type": "stream",
     "text": [
      "Training Epoch 2/3: 100%|██████████| 76/76 [03:31<00:00,  2.78s/it]\n",
      "Validation Epoch 2/3: 100%|██████████| 65/65 [01:28<00:00,  1.37s/it]\n"
     ]
    },
    {
     "name": "stdout",
     "output_type": "stream",
     "text": [
      "Epoch 2/3, Train Loss: 1.0038, Val Loss: 0.9679\n"
     ]
    },
    {
     "name": "stderr",
     "output_type": "stream",
     "text": [
      "Training Epoch 3/3: 100%|██████████| 76/76 [03:27<00:00,  2.73s/it]\n",
      "Validation Epoch 3/3: 100%|██████████| 65/65 [01:29<00:00,  1.38s/it]\n"
     ]
    },
    {
     "name": "stdout",
     "output_type": "stream",
     "text": [
      "Epoch 3/3, Train Loss: 0.9640, Val Loss: 0.9568\n",
      "Training complete.\n",
      "\n",
      "Trying combination 8/20:\n",
      "{'learning_rate': 0.0005, 'focal_gamma': 1, 'focal_alpha': 0.25, 'dropout_prob': 0.1, 'dice_weight': 1.5, 'boundary_weight': 1.0}\n"
     ]
    },
    {
     "name": "stderr",
     "output_type": "stream",
     "text": [
      "Training Epoch 1/3: 100%|██████████| 76/76 [03:35<00:00,  2.83s/it]\n",
      "Validation Epoch 1/3: 100%|██████████| 65/65 [01:30<00:00,  1.39s/it]\n"
     ]
    },
    {
     "name": "stdout",
     "output_type": "stream",
     "text": [
      "Epoch 1/3, Train Loss: 1.8989, Val Loss: 1.7332\n"
     ]
    },
    {
     "name": "stderr",
     "output_type": "stream",
     "text": [
      "Training Epoch 2/3: 100%|██████████| 76/76 [03:35<00:00,  2.84s/it]\n",
      "Validation Epoch 2/3: 100%|██████████| 65/65 [01:30<00:00,  1.39s/it]\n"
     ]
    },
    {
     "name": "stdout",
     "output_type": "stream",
     "text": [
      "Epoch 2/3, Train Loss: 1.6300, Val Loss: 1.5313\n"
     ]
    },
    {
     "name": "stderr",
     "output_type": "stream",
     "text": [
      "Training Epoch 3/3: 100%|██████████| 76/76 [03:31<00:00,  2.78s/it]\n",
      "Validation Epoch 3/3: 100%|██████████| 65/65 [01:29<00:00,  1.38s/it]\n"
     ]
    },
    {
     "name": "stdout",
     "output_type": "stream",
     "text": [
      "Epoch 3/3, Train Loss: 1.4954, Val Loss: 1.4638\n",
      "Training complete.\n",
      "\n",
      "Trying combination 9/20:\n",
      "{'learning_rate': 0.0005, 'focal_gamma': 3, 'focal_alpha': 0.5, 'dropout_prob': 0.1, 'dice_weight': 0.5, 'boundary_weight': 1.0}\n"
     ]
    },
    {
     "name": "stderr",
     "output_type": "stream",
     "text": [
      "Training Epoch 1/3: 100%|██████████| 76/76 [03:37<00:00,  2.87s/it]\n",
      "Validation Epoch 1/3: 100%|██████████| 65/65 [01:30<00:00,  1.39s/it]\n"
     ]
    },
    {
     "name": "stdout",
     "output_type": "stream",
     "text": [
      "Epoch 1/3, Train Loss: 1.1932, Val Loss: 0.8839\n"
     ]
    },
    {
     "name": "stderr",
     "output_type": "stream",
     "text": [
      "Training Epoch 2/3: 100%|██████████| 76/76 [03:35<00:00,  2.83s/it]\n",
      "Validation Epoch 2/3: 100%|██████████| 65/65 [01:28<00:00,  1.36s/it]\n"
     ]
    },
    {
     "name": "stdout",
     "output_type": "stream",
     "text": [
      "Epoch 2/3, Train Loss: 0.7327, Val Loss: 0.6623\n"
     ]
    },
    {
     "name": "stderr",
     "output_type": "stream",
     "text": [
      "Training Epoch 3/3: 100%|██████████| 76/76 [03:34<00:00,  2.82s/it]\n",
      "Validation Epoch 3/3: 100%|██████████| 65/65 [01:30<00:00,  1.39s/it]\n"
     ]
    },
    {
     "name": "stdout",
     "output_type": "stream",
     "text": [
      "Epoch 3/3, Train Loss: 0.5549, Val Loss: 0.5175\n",
      "Training complete.\n",
      "\n",
      "Trying combination 10/20:\n",
      "{'learning_rate': 0.0005, 'focal_gamma': 2, 'focal_alpha': 0.75, 'dropout_prob': 0.2, 'dice_weight': 1, 'boundary_weight': 0.5}\n"
     ]
    },
    {
     "name": "stderr",
     "output_type": "stream",
     "text": [
      "Training Epoch 1/3: 100%|██████████| 76/76 [03:35<00:00,  2.84s/it]\n",
      "Validation Epoch 1/3: 100%|██████████| 65/65 [01:28<00:00,  1.37s/it]\n"
     ]
    },
    {
     "name": "stdout",
     "output_type": "stream",
     "text": [
      "Epoch 1/3, Train Loss: 2.2973, Val Loss: 1.9210\n"
     ]
    },
    {
     "name": "stderr",
     "output_type": "stream",
     "text": [
      "Training Epoch 2/3: 100%|██████████| 76/76 [03:31<00:00,  2.79s/it]\n",
      "Validation Epoch 2/3: 100%|██████████| 65/65 [01:28<00:00,  1.36s/it]\n"
     ]
    },
    {
     "name": "stdout",
     "output_type": "stream",
     "text": [
      "Epoch 2/3, Train Loss: 1.6276, Val Loss: 1.3154\n"
     ]
    },
    {
     "name": "stderr",
     "output_type": "stream",
     "text": [
      "Training Epoch 3/3: 100%|██████████| 76/76 [03:30<00:00,  2.77s/it]\n",
      "Validation Epoch 3/3: 100%|██████████| 65/65 [01:29<00:00,  1.38s/it]\n"
     ]
    },
    {
     "name": "stdout",
     "output_type": "stream",
     "text": [
      "Epoch 3/3, Train Loss: 1.2542, Val Loss: 1.0855\n",
      "Training complete.\n",
      "\n",
      "Trying combination 11/20:\n",
      "{'learning_rate': 0.0005, 'focal_gamma': 2, 'focal_alpha': 0.5, 'dropout_prob': 0.1, 'dice_weight': 1.5, 'boundary_weight': 1.0}\n"
     ]
    },
    {
     "name": "stderr",
     "output_type": "stream",
     "text": [
      "Training Epoch 1/3: 100%|██████████| 76/76 [03:38<00:00,  2.87s/it]\n",
      "Validation Epoch 1/3: 100%|██████████| 65/65 [01:30<00:00,  1.40s/it]\n"
     ]
    },
    {
     "name": "stdout",
     "output_type": "stream",
     "text": [
      "Epoch 1/3, Train Loss: 2.4272, Val Loss: 2.0894\n"
     ]
    },
    {
     "name": "stderr",
     "output_type": "stream",
     "text": [
      "Training Epoch 2/3: 100%|██████████| 76/76 [03:35<00:00,  2.83s/it]\n",
      "Validation Epoch 2/3: 100%|██████████| 65/65 [01:28<00:00,  1.37s/it]\n"
     ]
    },
    {
     "name": "stdout",
     "output_type": "stream",
     "text": [
      "Epoch 2/3, Train Loss: 1.9210, Val Loss: 1.7035\n"
     ]
    },
    {
     "name": "stderr",
     "output_type": "stream",
     "text": [
      "Training Epoch 3/3: 100%|██████████| 76/76 [03:33<00:00,  2.80s/it]\n",
      "Validation Epoch 3/3: 100%|██████████| 65/65 [01:29<00:00,  1.38s/it]\n"
     ]
    },
    {
     "name": "stdout",
     "output_type": "stream",
     "text": [
      "Epoch 3/3, Train Loss: 1.6181, Val Loss: 1.5194\n",
      "Training complete.\n",
      "\n",
      "Trying combination 12/20:\n",
      "{'learning_rate': 0.0005, 'focal_gamma': 1, 'focal_alpha': 0.25, 'dropout_prob': 0.3, 'dice_weight': 1, 'boundary_weight': 0.5}\n"
     ]
    },
    {
     "name": "stderr",
     "output_type": "stream",
     "text": [
      "Training Epoch 1/3: 100%|██████████| 76/76 [03:38<00:00,  2.88s/it]\n",
      "Validation Epoch 1/3: 100%|██████████| 65/65 [01:34<00:00,  1.45s/it]\n"
     ]
    },
    {
     "name": "stdout",
     "output_type": "stream",
     "text": [
      "Epoch 1/3, Train Loss: 1.5172, Val Loss: 1.2701\n"
     ]
    },
    {
     "name": "stderr",
     "output_type": "stream",
     "text": [
      "Training Epoch 2/3: 100%|██████████| 76/76 [03:36<00:00,  2.85s/it]\n",
      "Validation Epoch 2/3: 100%|██████████| 65/65 [01:29<00:00,  1.38s/it]\n"
     ]
    },
    {
     "name": "stdout",
     "output_type": "stream",
     "text": [
      "Epoch 2/3, Train Loss: 1.2571, Val Loss: 1.1040\n"
     ]
    },
    {
     "name": "stderr",
     "output_type": "stream",
     "text": [
      "Training Epoch 3/3: 100%|██████████| 76/76 [03:35<00:00,  2.83s/it]\n",
      "Validation Epoch 3/3: 100%|██████████| 65/65 [01:31<00:00,  1.40s/it]\n"
     ]
    },
    {
     "name": "stdout",
     "output_type": "stream",
     "text": [
      "Epoch 3/3, Train Loss: 1.1005, Val Loss: 1.0097\n",
      "Training complete.\n",
      "\n",
      "Trying combination 13/20:\n",
      "{'learning_rate': 0.001, 'focal_gamma': 3, 'focal_alpha': 0.25, 'dropout_prob': 0.2, 'dice_weight': 0.5, 'boundary_weight': 1.0}\n"
     ]
    },
    {
     "name": "stderr",
     "output_type": "stream",
     "text": [
      "Training Epoch 1/3: 100%|██████████| 76/76 [03:36<00:00,  2.85s/it]\n",
      "Validation Epoch 1/3: 100%|██████████| 65/65 [01:33<00:00,  1.43s/it]\n"
     ]
    },
    {
     "name": "stdout",
     "output_type": "stream",
     "text": [
      "Epoch 1/3, Train Loss: 0.7618, Val Loss: 0.5427\n"
     ]
    },
    {
     "name": "stderr",
     "output_type": "stream",
     "text": [
      "Training Epoch 2/3: 100%|██████████| 76/76 [03:31<00:00,  2.78s/it]\n",
      "Validation Epoch 2/3: 100%|██████████| 65/65 [01:28<00:00,  1.35s/it]\n"
     ]
    },
    {
     "name": "stdout",
     "output_type": "stream",
     "text": [
      "Epoch 2/3, Train Loss: 0.5079, Val Loss: 0.4832\n"
     ]
    },
    {
     "name": "stderr",
     "output_type": "stream",
     "text": [
      "Training Epoch 3/3: 100%|██████████| 76/76 [03:27<00:00,  2.73s/it]\n",
      "Validation Epoch 3/3: 100%|██████████| 65/65 [01:29<00:00,  1.38s/it]\n"
     ]
    },
    {
     "name": "stdout",
     "output_type": "stream",
     "text": [
      "Epoch 3/3, Train Loss: 0.4843, Val Loss: 0.4780\n",
      "Training complete.\n",
      "\n",
      "Trying combination 14/20:\n",
      "{'learning_rate': 0.0005, 'focal_gamma': 3, 'focal_alpha': 0.75, 'dropout_prob': 0.3, 'dice_weight': 1.5, 'boundary_weight': 1.5}\n"
     ]
    },
    {
     "name": "stderr",
     "output_type": "stream",
     "text": [
      "Training Epoch 1/3: 100%|██████████| 76/76 [03:35<00:00,  2.84s/it]\n",
      "Validation Epoch 1/3: 100%|██████████| 65/65 [01:29<00:00,  1.38s/it]\n"
     ]
    },
    {
     "name": "stdout",
     "output_type": "stream",
     "text": [
      "Epoch 1/3, Train Loss: 2.6854, Val Loss: 1.9705\n"
     ]
    },
    {
     "name": "stderr",
     "output_type": "stream",
     "text": [
      "Training Epoch 2/3: 100%|██████████| 76/76 [03:29<00:00,  2.76s/it]\n",
      "Validation Epoch 2/3: 100%|██████████| 65/65 [01:28<00:00,  1.36s/it]\n"
     ]
    },
    {
     "name": "stdout",
     "output_type": "stream",
     "text": [
      "Epoch 2/3, Train Loss: 2.0601, Val Loss: 1.6558\n"
     ]
    },
    {
     "name": "stderr",
     "output_type": "stream",
     "text": [
      "Training Epoch 3/3: 100%|██████████| 76/76 [03:30<00:00,  2.77s/it]\n",
      "Validation Epoch 3/3: 100%|██████████| 65/65 [01:28<00:00,  1.37s/it]\n"
     ]
    },
    {
     "name": "stdout",
     "output_type": "stream",
     "text": [
      "Epoch 3/3, Train Loss: 1.7228, Val Loss: 1.5269\n",
      "Training complete.\n",
      "\n",
      "Trying combination 15/20:\n",
      "{'learning_rate': 0.001, 'focal_gamma': 2, 'focal_alpha': 0.75, 'dropout_prob': 0.3, 'dice_weight': 1, 'boundary_weight': 1.0}\n"
     ]
    },
    {
     "name": "stderr",
     "output_type": "stream",
     "text": [
      "Training Epoch 1/3: 100%|██████████| 76/76 [03:36<00:00,  2.84s/it]\n",
      "Validation Epoch 1/3: 100%|██████████| 65/65 [01:28<00:00,  1.36s/it]\n"
     ]
    },
    {
     "name": "stdout",
     "output_type": "stream",
     "text": [
      "Epoch 1/3, Train Loss: 1.9516, Val Loss: 1.2894\n"
     ]
    },
    {
     "name": "stderr",
     "output_type": "stream",
     "text": [
      "Training Epoch 2/3: 100%|██████████| 76/76 [03:32<00:00,  2.80s/it]\n",
      "Validation Epoch 2/3: 100%|██████████| 65/65 [01:28<00:00,  1.37s/it]\n"
     ]
    },
    {
     "name": "stdout",
     "output_type": "stream",
     "text": [
      "Epoch 2/3, Train Loss: 1.1287, Val Loss: 0.9802\n"
     ]
    },
    {
     "name": "stderr",
     "output_type": "stream",
     "text": [
      "Training Epoch 3/3: 100%|██████████| 76/76 [03:28<00:00,  2.75s/it]\n",
      "Validation Epoch 3/3: 100%|██████████| 65/65 [01:30<00:00,  1.39s/it]\n"
     ]
    },
    {
     "name": "stdout",
     "output_type": "stream",
     "text": [
      "Epoch 3/3, Train Loss: 0.9902, Val Loss: 0.9561\n",
      "Training complete.\n",
      "\n",
      "Trying combination 16/20:\n",
      "{'learning_rate': 0.001, 'focal_gamma': 1, 'focal_alpha': 0.25, 'dropout_prob': 0.1, 'dice_weight': 1.5, 'boundary_weight': 1.5}\n"
     ]
    },
    {
     "name": "stderr",
     "output_type": "stream",
     "text": [
      "Training Epoch 1/3: 100%|██████████| 76/76 [03:36<00:00,  2.85s/it]\n",
      "Validation Epoch 1/3: 100%|██████████| 65/65 [01:30<00:00,  1.40s/it]\n"
     ]
    },
    {
     "name": "stdout",
     "output_type": "stream",
     "text": [
      "Epoch 1/3, Train Loss: 1.8312, Val Loss: 1.6027\n"
     ]
    },
    {
     "name": "stderr",
     "output_type": "stream",
     "text": [
      "Training Epoch 2/3: 100%|██████████| 76/76 [03:32<00:00,  2.79s/it]\n",
      "Validation Epoch 2/3: 100%|██████████| 65/65 [01:30<00:00,  1.39s/it]\n"
     ]
    },
    {
     "name": "stdout",
     "output_type": "stream",
     "text": [
      "Epoch 2/3, Train Loss: 1.4919, Val Loss: 1.4449\n"
     ]
    },
    {
     "name": "stderr",
     "output_type": "stream",
     "text": [
      "Training Epoch 3/3: 100%|██████████| 76/76 [03:28<00:00,  2.75s/it]\n",
      "Validation Epoch 3/3: 100%|██████████| 65/65 [01:32<00:00,  1.42s/it]\n"
     ]
    },
    {
     "name": "stdout",
     "output_type": "stream",
     "text": [
      "Epoch 3/3, Train Loss: 1.4370, Val Loss: 1.4293\n",
      "Training complete.\n",
      "\n",
      "Trying combination 17/20:\n",
      "{'learning_rate': 0.0005, 'focal_gamma': 3, 'focal_alpha': 0.5, 'dropout_prob': 0.3, 'dice_weight': 0.5, 'boundary_weight': 0.5}\n"
     ]
    },
    {
     "name": "stderr",
     "output_type": "stream",
     "text": [
      "Training Epoch 1/3: 100%|██████████| 76/76 [03:39<00:00,  2.89s/it]\n",
      "Validation Epoch 1/3: 100%|██████████| 65/65 [01:31<00:00,  1.41s/it]\n"
     ]
    },
    {
     "name": "stdout",
     "output_type": "stream",
     "text": [
      "Epoch 1/3, Train Loss: 1.3163, Val Loss: 0.9251\n"
     ]
    },
    {
     "name": "stderr",
     "output_type": "stream",
     "text": [
      "Training Epoch 2/3: 100%|██████████| 76/76 [03:43<00:00,  2.94s/it]\n",
      "Validation Epoch 2/3: 100%|██████████| 65/65 [01:34<00:00,  1.46s/it]\n"
     ]
    },
    {
     "name": "stdout",
     "output_type": "stream",
     "text": [
      "Epoch 2/3, Train Loss: 0.8211, Val Loss: 0.6344\n"
     ]
    },
    {
     "name": "stderr",
     "output_type": "stream",
     "text": [
      "Training Epoch 3/3: 100%|██████████| 76/76 [03:32<00:00,  2.79s/it]\n",
      "Validation Epoch 3/3: 100%|██████████| 65/65 [01:29<00:00,  1.38s/it]\n"
     ]
    },
    {
     "name": "stdout",
     "output_type": "stream",
     "text": [
      "Epoch 3/3, Train Loss: 0.6061, Val Loss: 0.5706\n",
      "Training complete.\n",
      "\n",
      "Trying combination 18/20:\n",
      "{'learning_rate': 0.001, 'focal_gamma': 3, 'focal_alpha': 0.75, 'dropout_prob': 0.2, 'dice_weight': 1.5, 'boundary_weight': 1.5}\n"
     ]
    },
    {
     "name": "stderr",
     "output_type": "stream",
     "text": [
      "Training Epoch 1/3: 100%|██████████| 76/76 [03:36<00:00,  2.85s/it]\n",
      "Validation Epoch 1/3: 100%|██████████| 65/65 [01:35<00:00,  1.48s/it]\n"
     ]
    },
    {
     "name": "stdout",
     "output_type": "stream",
     "text": [
      "Epoch 1/3, Train Loss: 2.2062, Val Loss: 1.6136\n"
     ]
    },
    {
     "name": "stderr",
     "output_type": "stream",
     "text": [
      "Training Epoch 2/3: 100%|██████████| 76/76 [03:37<00:00,  2.87s/it]\n",
      "Validation Epoch 2/3: 100%|██████████| 65/65 [01:28<00:00,  1.36s/it]\n"
     ]
    },
    {
     "name": "stdout",
     "output_type": "stream",
     "text": [
      "Epoch 2/3, Train Loss: 1.5174, Val Loss: 1.4477\n"
     ]
    },
    {
     "name": "stderr",
     "output_type": "stream",
     "text": [
      "Training Epoch 3/3: 100%|██████████| 76/76 [03:27<00:00,  2.73s/it]\n",
      "Validation Epoch 3/3: 100%|██████████| 65/65 [01:28<00:00,  1.36s/it]\n"
     ]
    },
    {
     "name": "stdout",
     "output_type": "stream",
     "text": [
      "Epoch 3/3, Train Loss: 1.4503, Val Loss: 1.4332\n",
      "Training complete.\n",
      "\n",
      "Trying combination 19/20:\n",
      "{'learning_rate': 0.001, 'focal_gamma': 3, 'focal_alpha': 0.25, 'dropout_prob': 0.2, 'dice_weight': 0.5, 'boundary_weight': 0.5}\n"
     ]
    },
    {
     "name": "stderr",
     "output_type": "stream",
     "text": [
      "Training Epoch 1/3: 100%|██████████| 76/76 [03:34<00:00,  2.82s/it]\n",
      "Validation Epoch 1/3: 100%|██████████| 65/65 [01:29<00:00,  1.38s/it]\n"
     ]
    },
    {
     "name": "stdout",
     "output_type": "stream",
     "text": [
      "Epoch 1/3, Train Loss: 0.7607, Val Loss: 0.5673\n"
     ]
    },
    {
     "name": "stderr",
     "output_type": "stream",
     "text": [
      "Training Epoch 2/3: 100%|██████████| 76/76 [03:27<00:00,  2.73s/it]\n",
      "Validation Epoch 2/3: 100%|██████████| 65/65 [01:27<00:00,  1.35s/it]\n"
     ]
    },
    {
     "name": "stdout",
     "output_type": "stream",
     "text": [
      "Epoch 2/3, Train Loss: 0.5175, Val Loss: 0.4853\n"
     ]
    },
    {
     "name": "stderr",
     "output_type": "stream",
     "text": [
      "Training Epoch 3/3: 100%|██████████| 76/76 [03:22<00:00,  2.66s/it]\n",
      "Validation Epoch 3/3: 100%|██████████| 65/65 [01:29<00:00,  1.38s/it]\n"
     ]
    },
    {
     "name": "stdout",
     "output_type": "stream",
     "text": [
      "Epoch 3/3, Train Loss: 0.4850, Val Loss: 0.4781\n",
      "Training complete.\n",
      "\n",
      "Trying combination 20/20:\n",
      "{'learning_rate': 0.001, 'focal_gamma': 3, 'focal_alpha': 0.25, 'dropout_prob': 0.2, 'dice_weight': 0.5, 'boundary_weight': 1.5}\n"
     ]
    },
    {
     "name": "stderr",
     "output_type": "stream",
     "text": [
      "Training Epoch 1/3: 100%|██████████| 76/76 [03:34<00:00,  2.82s/it]\n",
      "Validation Epoch 1/3: 100%|██████████| 65/65 [01:29<00:00,  1.38s/it]\n"
     ]
    },
    {
     "name": "stdout",
     "output_type": "stream",
     "text": [
      "Epoch 1/3, Train Loss: 0.7836, Val Loss: 0.5744\n"
     ]
    },
    {
     "name": "stderr",
     "output_type": "stream",
     "text": [
      "Training Epoch 2/3: 100%|██████████| 76/76 [03:35<00:00,  2.83s/it]\n",
      "Validation Epoch 2/3: 100%|██████████| 65/65 [01:31<00:00,  1.41s/it]\n"
     ]
    },
    {
     "name": "stdout",
     "output_type": "stream",
     "text": [
      "Epoch 2/3, Train Loss: 0.5187, Val Loss: 0.4862\n"
     ]
    },
    {
     "name": "stderr",
     "output_type": "stream",
     "text": [
      "Training Epoch 3/3: 100%|██████████| 76/76 [03:29<00:00,  2.76s/it]\n",
      "Validation Epoch 3/3: 100%|██████████| 65/65 [01:32<00:00,  1.42s/it]\n"
     ]
    },
    {
     "name": "stdout",
     "output_type": "stream",
     "text": [
      "Epoch 3/3, Train Loss: 0.4864, Val Loss: 0.4786\n",
      "Training complete.\n",
      "Best parameters: {'learning_rate': 0.001, 'focal_gamma': 1, 'focal_alpha': 0.5, 'dropout_prob': 0.1, 'dice_weight': 0.5, 'boundary_weight': 1.0}\n"
     ]
    },
    {
     "name": "stderr",
     "output_type": "stream",
     "text": [
      "Training Epoch 1/5: 100%|██████████| 76/76 [03:39<00:00,  2.89s/it]\n",
      "Validation Epoch 1/5: 100%|██████████| 65/65 [01:32<00:00,  1.42s/it]\n"
     ]
    },
    {
     "name": "stdout",
     "output_type": "stream",
     "text": [
      "Epoch 1/5, Train Loss: 1.1151, Val Loss: 0.7264\n"
     ]
    },
    {
     "name": "stderr",
     "output_type": "stream",
     "text": [
      "Training Epoch 2/5: 100%|██████████| 76/76 [03:37<00:00,  2.87s/it]\n",
      "Validation Epoch 2/5: 100%|██████████| 65/65 [01:31<00:00,  1.40s/it]\n"
     ]
    },
    {
     "name": "stdout",
     "output_type": "stream",
     "text": [
      "Epoch 2/5, Train Loss: 0.5643, Val Loss: 0.5040\n"
     ]
    },
    {
     "name": "stderr",
     "output_type": "stream",
     "text": [
      "Training Epoch 3/5: 100%|██████████| 76/76 [03:30<00:00,  2.77s/it]\n",
      "Validation Epoch 3/5: 100%|██████████| 65/65 [01:29<00:00,  1.38s/it]\n"
     ]
    },
    {
     "name": "stdout",
     "output_type": "stream",
     "text": [
      "Epoch 3/5, Train Loss: 0.4948, Val Loss: 0.4841\n"
     ]
    },
    {
     "name": "stderr",
     "output_type": "stream",
     "text": [
      "Training Epoch 4/5: 100%|██████████| 76/76 [03:27<00:00,  2.73s/it]\n",
      "Validation Epoch 4/5: 100%|██████████| 65/65 [01:30<00:00,  1.39s/it]\n"
     ]
    },
    {
     "name": "stdout",
     "output_type": "stream",
     "text": [
      "Epoch 4/5, Train Loss: 0.4837, Val Loss: 0.4788\n"
     ]
    },
    {
     "name": "stderr",
     "output_type": "stream",
     "text": [
      "Training Epoch 5/5: 100%|██████████| 76/76 [03:24<00:00,  2.70s/it]\n",
      "Validation Epoch 5/5: 100%|██████████| 65/65 [01:30<00:00,  1.39s/it]"
     ]
    },
    {
     "name": "stdout",
     "output_type": "stream",
     "text": [
      "Epoch 5/5, Train Loss: 0.4797, Val Loss: 0.4770\n",
      "Training complete.\n"
     ]
    },
    {
     "name": "stderr",
     "output_type": "stream",
     "text": [
      "\n"
     ]
    }
   ],
   "source": [
    "param_distributions = {\n",
    "    'dropout_prob': [0.1, 0.2, 0.3],\n",
    "    'learning_rate': [5e-4, 1e-3],\n",
    "    'focal_alpha': [0.25, 0.5, 0.75],\n",
    "    'focal_gamma': [1, 2, 3],\n",
    "    'boundary_weight': [0.5, 1.0, 1.5],\n",
    "    'dice_weight': [0.5, 1, 1.5]\n",
    "}\n",
    "best_model, best_params = random_search(param_distributions, n_iter=20, initial_epochs=3, full_epochs=10)\n",
    "print(\"Best parameters:\", best_params)\n",
    "\n",
    "# Train the final model with the best parameters\n",
    "final_model = UNetPlusPlus(num_classes=NUM_CLASSES, deep_supervision=True, dropout_prob=best_params['dropout_prob']).cuda()\n",
    "final_optimizer = optim.Adam(final_model.parameters(), lr=best_params['learning_rate'])\n",
    "final_criterion = CombinedSegmentationLoss(alpha=best_params['focal_alpha'], gamma=best_params['focal_gamma'], boundary_weight=best_params['boundary_weight'], dice_weight=best_params['dice_weight'])\n",
    "\n",
    "trained_model, train_losses, val_losses = train_model(final_model, train_loader, val_loader, final_optimizer, final_criterion, num_epochs=NUM_EPOCHS)\n"
   ]
  }
 ],
 "metadata": {
  "kaggle": {
   "accelerator": "gpu",
   "dataSources": [
    {
     "datasetId": 5460119,
     "sourceId": 9063820,
     "sourceType": "datasetVersion"
    },
    {
     "datasetId": 5316971,
     "sourceId": 9049243,
     "sourceType": "datasetVersion"
    }
   ],
   "dockerImageVersionId": 30747,
   "isGpuEnabled": true,
   "isInternetEnabled": true,
   "language": "python",
   "sourceType": "notebook"
  },
  "kernelspec": {
   "display_name": "Python 3 (ipykernel)",
   "language": "python",
   "name": "python3"
  },
  "language_info": {
   "codemirror_mode": {
    "name": "ipython",
    "version": 3
   },
   "file_extension": ".py",
   "mimetype": "text/x-python",
   "name": "python",
   "nbconvert_exporter": "python",
   "pygments_lexer": "ipython3",
   "version": "3.12.2"
  }
 },
 "nbformat": 4,
 "nbformat_minor": 4
}
